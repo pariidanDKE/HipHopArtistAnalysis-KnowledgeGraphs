{
 "cells": [
  {
   "cell_type": "code",
   "execution_count": 3,
   "outputs": [],
   "source": [
    "import numpy as np\n",
    "import matplotlib.pyplot as plt\n",
    "import os\n",
    "import networkx as nx\n",
    "from matplotlib import pyplot as plt\n",
    "from rdflib import Graph\n",
    "from rdflib.plugins.sparql import prepareQuery"
   ],
   "metadata": {
    "collapsed": false,
    "ExecuteTime": {
     "end_time": "2024-03-24T12:16:59.169075Z",
     "start_time": "2024-03-24T12:16:58.033604900Z"
    }
   },
   "id": "f9f5af4b4f942792"
  },
  {
   "cell_type": "markdown",
   "source": [
    "\n",
    "#### Load Graph"
   ],
   "metadata": {
    "collapsed": false
   },
   "id": "fef30389f854657c"
  },
  {
   "cell_type": "code",
   "execution_count": null,
   "outputs": [],
   "source": [
    "g = Graph() # the oxigraph stuff makes queries run faster\n",
    "\n",
    "g.parse('KnowledgeGraphs/knowledge_graph.ttl', format=\"turtle\")\n",
    "g.parse('KnowledgeGraphs/ontology_graph.ttl', format=\"turtle\")"
   ],
   "metadata": {
    "collapsed": false
   },
   "id": "c4a915e9f8ec7bfc"
  },
  {
   "cell_type": "code",
   "execution_count": null,
   "outputs": [],
   "source": [
    "def format_large_number(num):\n",
    "    num = float(num)\n",
    "    if num < 1000:\n",
    "        return str(num)\n",
    "    elif num < 1000000:\n",
    "        return \"{:.2f}K\".format(num / 1000)\n",
    "    elif num < 1000000000:\n",
    "        return \"{:.2f}M\".format(num / 1000000)\n",
    "    elif num < 1000000000000:\n",
    "        return \"{:.2f}B\".format(num / 1000000000)\n",
    "    else:\n",
    "        return \"{:.2f}T\".format(num / 1000000000000)\n"
   ],
   "metadata": {
    "collapsed": false
   },
   "id": "bb646f0315e734be"
  },
  {
   "cell_type": "code",
   "execution_count": null,
   "outputs": [],
   "source": [
    "##### Query artists with more followers on Twitter than on Youtube"
   ],
   "metadata": {
    "collapsed": false
   },
   "id": "1dd6016b501631e"
  },
  {
   "cell_type": "code",
   "execution_count": 196,
   "outputs": [
    {
     "name": "stdout",
     "output_type": "stream",
     "text": [
      "Artist: Def Leppard has more followers on Twitter than on Youtube. Youtube Followers: 913.00K Twitter Followers: 957.09K\n",
      "**************************************************\n",
      "Artist: Shakira has more followers on Twitter than on Youtube. Youtube Followers: 45.40M Twitter Followers: 53.76M\n",
      "**************************************************\n",
      "Artist: Paul McCartney has more followers on Twitter than on Youtube. Youtube Followers: 1.27M Twitter Followers: 4.28M\n",
      "**************************************************\n",
      "Artist: Barbra Streisand has more followers on Twitter than on Youtube. Youtube Followers: 493.00K Twitter Followers: 798.97K\n",
      "**************************************************\n",
      "Artist: Britney Spears has more followers on Twitter than on Youtube. Youtube Followers: 10.00M Twitter Followers: 57.98M\n",
      "**************************************************\n",
      "Artist: Neil Diamond has more followers on Twitter than on Youtube. Youtube Followers: 343.00K Twitter Followers: 867.02K\n",
      "**************************************************\n",
      "Artist: Olivia Newton-John has more followers on Twitter than on Youtube. Youtube Followers: 158.00K Twitter Followers: 181.28K\n",
      "**************************************************\n",
      "Artist: P!nk has more followers on Twitter than on Youtube. Youtube Followers: 11.90M Twitter Followers: 33.07M\n",
      "**************************************************\n",
      "Artist: George Michael has more followers on Twitter than on Youtube. Youtube Followers: 7.80K Twitter Followers: 559.51K\n",
      "**************************************************\n",
      "Artist: Aretha Franklin has more followers on Twitter than on Youtube. Youtube Followers: 85.40K Twitter Followers: 141.37K\n",
      "**************************************************\n",
      "Artist: Bruno Mars has more followers on Twitter than on Youtube. Youtube Followers: 37.60M Twitter Followers: 43.24M\n",
      "**************************************************\n",
      "Artist: Chris Brown has more followers on Twitter than on Youtube. Youtube Followers: 24.70M Twitter Followers: 32.60M\n",
      "**************************************************\n",
      "Artist: Lady Gaga has more followers on Twitter than on Youtube. Youtube Followers: 23.80M Twitter Followers: 84.91M\n",
      "**************************************************\n",
      "Artist: Ariana Grande has more followers on Twitter than on Youtube. Youtube Followers: 48.70M Twitter Followers: 80.79M\n",
      "**************************************************\n",
      "Artist: Usher has more followers on Twitter than on Youtube. Youtube Followers: 8.00M Twitter Followers: 12.31M\n",
      "**************************************************\n",
      "Artist: Kanye West has more followers on Twitter than on Youtube. Youtube Followers: 6.94M Twitter Followers: 30.87M\n",
      "**************************************************\n",
      "Artist: Janet Jackson has more followers on Twitter than on Youtube. Youtube Followers: 1.26M Twitter Followers: 4.21M\n",
      "**************************************************\n",
      "Artist: Nicki Minaj has more followers on Twitter than on Youtube. Youtube Followers: 21.80M Twitter Followers: 27.76M\n",
      "**************************************************\n",
      "Artist: Justin Bieber has more followers on Twitter than on Youtube. Youtube Followers: 71.20M Twitter Followers: 114.26M\n",
      "**************************************************\n",
      "Artist: Mariah Carey has more followers on Twitter than on Youtube. Youtube Followers: 10.60M Twitter Followers: 21.91M\n",
      "**************************************************\n",
      "Artist: The Rolling Stones has more followers on Twitter than on Youtube. Youtube Followers: 3.14M Twitter Followers: 3.52M\n",
      "**************************************************\n",
      "Artist: Elvis Presley has more followers on Twitter than on Youtube. Youtube Followers: 70.00K Twitter Followers: 348.52K\n",
      "**************************************************\n",
      "Artist: Taylor Swift has more followers on Twitter than on Youtube. Youtube Followers: 56.70M Twitter Followers: 92.35M\n",
      "**************************************************\n",
      "Artist: Rihanna has more followers on Twitter than on Youtube. Youtube Followers: 36.60M Twitter Followers: 107.83M\n",
      "**************************************************\n"
     ]
    }
   ],
   "source": [
    "queries =\"\"\"\n",
    "prefix dbo:     <http://dbpedia.org/ontology/> \n",
    "PREFIX rdf:     <http://www.w3.org/1999/02/22-rdf-syntax-ns#>\n",
    "PREFIX rdfs:    <http://www.w3.org/2000/01/rdf-schema#>\n",
    "PREFIX wdp: <https://www.wikidata.org/wiki/Property:>\n",
    "PREFIX wd: <https://www.wikidata.org/wiki/>\n",
    "\n",
    "SELECT ?artistLabel ?youtubeFollowers ?twitterFollowers\n",
    "WHERE {\n",
    "    ?artist rdf:type wd:Q639669;\n",
    "            rdfs:label ?artistLabel .\n",
    "    ?artist schema:hasYoutubeFollowers ?youtubeFollowers .\n",
    "    ?artist schema:hasTwitterFollowers ?twitterFollowers .\n",
    "    FILTER(xsd:integer(?youtubeFollowers) < xsd:integer(?twitterFollowers))\n",
    "}\n",
    "\"\"\"\n",
    "\n",
    "query = prepareQuery(queries)\n",
    "result = g.query(query)\n",
    "\n",
    "for row in result:\n",
    "    print('Artist:', row.artistLabel,'has more followers on Twitter than on Youtube. Youtube Followers:', format_large_number(row.youtubeFollowers), 'Twitter Followers:', format_large_number(row.twitterFollowers))\n",
    "    print('*'*50)"
   ],
   "metadata": {
    "collapsed": false,
    "ExecuteTime": {
     "end_time": "2024-03-24T14:40:21.057971Z",
     "start_time": "2024-03-24T14:40:20.963842Z"
    }
   },
   "id": "a04e6fcff9a4a010"
  },
  {
   "cell_type": "code",
   "execution_count": 27,
   "outputs": [],
   "source": [
    "#### Find how many artists have more followers on Twitter than on Youtube ( along with the average number of followers on each platform)"
   ],
   "metadata": {
    "collapsed": false,
    "ExecuteTime": {
     "end_time": "2024-03-24T12:40:50.545256600Z",
     "start_time": "2024-03-24T12:40:50.529613100Z"
    }
   },
   "id": "4472c846c74be884"
  },
  {
   "cell_type": "code",
   "execution_count": 28,
   "outputs": [
    {
     "name": "stdout",
     "output_type": "stream",
     "text": [
      "Youtube Followers: 44 Twitter Followers: 25 Avg Youtube Followers: 12.33M Avg Twitter Followers: 14.43M\n"
     ]
    }
   ],
   "source": [
    "queries = \"\"\"\n",
    "PREFIX schema: <https://schema.org/>\n",
    "PREFIX xsd: <http://www.w3.org/2001/XMLSchema#>\n",
    "\n",
    "SELECT (COUNT(DISTINCT ?artistYT) AS ?YoutubeMore)\n",
    "       (COUNT(DISTINCT ?artistTW) AS ?TwitterMore)\n",
    "       (AVG(xsd:integer(?youtubeFollowers)) AS ?AvgYoutubeFollowers)\n",
    "       (AVG(xsd:integer(?twitterFollowers)) AS ?AvgTwitterFollowers)\n",
    "WHERE {\n",
    "  {\n",
    "    SELECT ?artist\n",
    "           (MAX(?youtubeFollowers) AS ?youtubeFollowers)\n",
    "           (MAX(?twitterFollowers) AS ?twitterFollowers)\n",
    "           (IF(MAX(xsd:integer(?youtubeFollowers)) > MAX(xsd:integer(?twitterFollowers)), ?artist, \"\") AS ?artistYT)\n",
    "           (IF(MAX(xsd:integer(?twitterFollowers)) > MAX(xsd:integer(?youtubeFollowers)), ?artist, \"\") AS ?artistTW)\n",
    "    WHERE {\n",
    "      ?artist schema:hasYoutubeFollowers ?youtubeFollowers ;\n",
    "              schema:hasTwitterFollowers ?twitterFollowers .\n",
    "    }\n",
    "    GROUP BY ?artist\n",
    "  }\n",
    "}\n",
    "\n",
    "\"\"\"\n",
    "\n",
    "\n",
    "query = prepareQuery(queries)\n",
    "result = g.query(query)\n",
    "\n",
    "for row in result:\n",
    "    print('Youtube Followers:', row.YoutubeMore, 'Twitter Followers:', row.TwitterMore, 'Avg Youtube Followers:', format_large_number(row.AvgYoutubeFollowers), 'Avg Twitter Followers:', format_large_number(row.AvgTwitterFollowers))"
   ],
   "metadata": {
    "collapsed": false,
    "ExecuteTime": {
     "end_time": "2024-03-24T12:40:51.597732300Z",
     "start_time": "2024-03-24T12:40:51.416187200Z"
    }
   },
   "id": "576d75c678597ac8"
  },
  {
   "cell_type": "markdown",
   "source": [
    "On average artists have more followers on Twitter than on Youtube (somewhat surprising), since Youtube is a more popular platform for music. However, twitter has been scrutinized for having a lot of fake accounts, so this could be a reason for the difference.\n",
    "\n",
    "It is not surprising that most artists have more followers on Youtube than on Twitter.\n"
   ],
   "metadata": {
    "collapsed": false
   },
   "id": "76dd7e9e02ff8659"
  },
  {
   "cell_type": "code",
   "execution_count": null,
   "outputs": [],
   "source": [
    "## This query finds avg lifetime sales of artists, grouping them per country."
   ],
   "metadata": {
    "collapsed": false
   },
   "id": "9feafbf459bcc6aa"
  },
  {
   "cell_type": "code",
   "execution_count": 198,
   "outputs": [
    {
     "name": "stdout",
     "output_type": "stream",
     "text": [
      "Country:  Barbados Avg TCU (millions): 335.3 Number of Artists: 1\n",
      "**************************************************\n",
      "Country:  CanadaUnited States Avg TCU (millions): 277.9 Number of Artists: 1\n",
      "**************************************************\n",
      "Country:  Canada Avg TCU (millions): 180.83 Number of Artists: 5\n",
      "**************************************************\n",
      "Country:  Trinidad and Tobago Avg TCU (millions): 156.3 Number of Artists: 1\n",
      "**************************************************\n",
      "Country:  United Kingdom Avg TCU (millions): 109.59 Number of Artists: 20\n",
      "**************************************************\n",
      "Country:  United States Avg TCU (millions): 98.98 Number of Artists: 79\n",
      "**************************************************\n",
      "Country:  United Kingdom United States Avg TCU (millions): 94.4 Number of Artists: 1\n",
      "**************************************************\n",
      "Country:  Ireland Avg TCU (millions): 83.25 Number of Artists: 2\n",
      "**************************************************\n",
      "Country:  Australia Avg TCU (millions): 83.15 Number of Artists: 2\n",
      "**************************************************\n",
      "Country:  Japan Avg TCU (millions): 75.35 Number of Artists: 2\n",
      "**************************************************\n",
      "Country:  Colombia Avg TCU (millions): 75.0 Number of Artists: 1\n",
      "**************************************************\n",
      "Country:  United Kingdom Australia[238][239] Avg TCU (millions): 74.7 Number of Artists: 1\n",
      "**************************************************\n",
      "Country:  Sweden Avg TCU (millions): 69.0 Number of Artists: 1\n",
      "**************************************************\n",
      "Country:  Spain Avg TCU (millions): 51.7 Number of Artists: 1\n",
      "**************************************************\n",
      "Country:  United StatesUnited Kingdom Avg TCU (millions): 50.4 Number of Artists: 1\n",
      "**************************************************\n",
      "Country:  Jamaica Avg TCU (millions): 46.3 Number of Artists: 1\n",
      "**************************************************\n",
      "Country:  France Avg TCU (millions): 28.9 Number of Artists: 1\n",
      "**************************************************\n"
     ]
    }
   ],
   "source": [
    "\n",
    "\n",
    "queries = \"\"\"\n",
    "PREFIX schema: <https://schema.org/>\n",
    "PREFIX wdp: <https://www.wikidata.org/wiki/Property:>\n",
    "PREFIX wd: <https://www.wikidata.org/wiki/>\n",
    "PREFIX xsd: <http://www.w3.org/2001/XMLSchema#>\n",
    "\n",
    "SELECT ?country (COUNT(?artist) AS ?numArtists) (AVG(xsd:double(?sales)) AS ?avgSales)\n",
    "WHERE {\n",
    "    ?artist wdp:P27 ?countryID .\n",
    "    ?artist schema:hasLifeTimeSales ?sales .\n",
    "    ?countryID rdfs:label ?countryLabel .\n",
    "    BIND(str(?countryLabel) AS ?country)\n",
    "}\n",
    "GROUP BY ?country\n",
    "ORDER BY DESC(?avgSales)\n",
    "\n",
    "\"\"\"\n",
    "\n",
    "\n",
    "query = prepareQuery(queries)\n",
    "result = g.query(query)\n",
    "\n",
    "for row in result:\n",
    "    print('Country: ', row.country, 'Avg TCU (millions):', round(float(row.avgSales),2), 'Number of Artists:', row.numArtists)\n",
    "    print('*'*50)"
   ],
   "metadata": {
    "collapsed": false,
    "ExecuteTime": {
     "end_time": "2024-03-24T14:40:31.616071500Z",
     "start_time": "2024-03-24T14:40:31.524308900Z"
    }
   },
   "id": "b0ed361864ddf51e"
  },
  {
   "cell_type": "markdown",
   "source": [
    "It seems our data is not very useful in this case, too few artists\n"
   ],
   "metadata": {
    "collapsed": false
   },
   "id": "99ffd830a6e66c5e"
  },
  {
   "cell_type": "code",
   "execution_count": 205,
   "outputs": [
    {
     "name": "stdout",
     "output_type": "stream",
     "text": [
      "Sales Interval: 0-50 million Avg Number of Children: 2.71\n",
      "**************************************************\n",
      "Sales Interval: 101-150 million Avg Number of Children: 2.33\n",
      "**************************************************\n",
      "Sales Interval: 151-200 million Avg Number of Children: 2.67\n",
      "**************************************************\n",
      "Sales Interval: 51-100 million Avg Number of Children: 2.55\n",
      "**************************************************\n",
      "Sales Interval: Above 200 million Avg Number of Children: 2.43\n",
      "**************************************************\n"
     ]
    }
   ],
   "source": [
    "queries = \"\"\"\n",
    "PREFIX schema: <https://schema.org/>\n",
    "PREFIX wdp: <https://www.wikidata.org/wiki/Property:>\n",
    "PREFIX xsd: <http://www.w3.org/2001/XMLSchema#>\n",
    "PREFIX wd: <https://www.wikidata.org/wiki/>\n",
    "\n",
    "SELECT ?SalesInterval (AVG(?numberOfChildren) AS ?AvgNumberOfChildren)\n",
    "WHERE {\n",
    "    ?artist schema:hasLifeTimeSales ?sales ;\n",
    "          wdp:P1552 ?family ;\n",
    "          rdfs:label ?artistLabel .\n",
    "  ?family a wd:Q8436;\n",
    "          wdp:P1971 ?numberOfChildrenRaw .\n",
    "          \n",
    "          \n",
    "  BIND(xsd:integer(?numberOfChildrenRaw) AS ?numberOfChildren)\n",
    "    BIND(\n",
    "        IF(?sales <= 50, \"0-50 million\",\n",
    "          IF(?sales <= 100, \"51-100 million\",\n",
    "            IF(?sales <= 150, \"101-150 million\",\n",
    "              IF(?sales <= 200, \"151-200 million\",\n",
    "                \"Above 200 million\")\n",
    "            )\n",
    "          )\n",
    "        ) AS ?SalesInterval\n",
    "  )\n",
    "}\n",
    "GROUP BY ?SalesInterval\n",
    "ORDER BY ?SalesInterval\n",
    "\n",
    "\"\"\"\n",
    "\n",
    "\n",
    "query = prepareQuery(queries)\n",
    "result = g.query(query)\n",
    "\n",
    "for row in result:\n",
    "    print('Sales Interval:', row.SalesInterval, 'Avg Number of Children:', round(float(row.AvgNumberOfChildren),2))\n",
    "    print('*'*50)"
   ],
   "metadata": {
    "collapsed": false,
    "ExecuteTime": {
     "end_time": "2024-03-24T14:41:18.606947Z",
     "start_time": "2024-03-24T14:41:18.481471300Z"
    }
   },
   "id": "b471b5d7b1c4c85e"
  },
  {
   "cell_type": "markdown",
   "source": [
    "It's quite clear that there is no substantial difference between number of children and their lifetime sales.\n"
   ],
   "metadata": {
    "collapsed": false
   },
   "id": "9c0ee05d7d042a40"
  },
  {
   "cell_type": "markdown",
   "source": [
    "#### Simple Query - Find the most successful artists in terms of number of top 10 songs"
   ],
   "metadata": {
    "collapsed": false
   },
   "id": "6f51849d4a52dee8"
  },
  {
   "cell_type": "code",
   "execution_count": 206,
   "outputs": [
    {
     "name": "stdout",
     "output_type": "stream",
     "text": [
      " Drake |Number of Songs: 52\n",
      "**************************************************\n",
      " Madonna |Number of Songs: 35\n",
      "**************************************************\n",
      " The Beatles |Number of Songs: 34\n",
      "**************************************************\n",
      " Michael Jackson |Number of Songs: 28\n",
      "**************************************************\n",
      " Rihanna |Number of Songs: 27\n",
      "**************************************************\n",
      " Taylor Swift |Number of Songs: 26\n",
      "**************************************************\n",
      " Elvis Presley |Number of Songs: 25\n",
      "**************************************************\n",
      " Stevie Wonder |Number of Songs: 25\n",
      "**************************************************\n",
      " Elton John |Number of Songs: 24\n",
      "**************************************************\n",
      " The Rolling Stones |Number of Songs: 23\n",
      "**************************************************\n"
     ]
    }
   ],
   "source": [
    "queries = \"\"\"\n",
    "PREFIX schema: <https://schema.org/>\n",
    "PREFIX wdp: <https://www.wikidata.org/wiki/Property:>\n",
    "PREFIX xsd: <http://www.w3.org/2001/XMLSchema#>\n",
    "\n",
    "\n",
    "SELECT ?artistLabel (COUNT(?song) AS ?songCount)\n",
    "WHERE {\n",
    "  ?song wdp:P175 ?artist .  # ?song is performed by ?artist\n",
    "  ?artist rdfs:label ?artistLabel .\n",
    "}\n",
    "GROUP BY ?artist\n",
    "ORDER BY DESC(?songCount)\n",
    "LIMIT 10\n",
    "\"\"\"\n",
    "\n",
    "\n",
    "query = prepareQuery(queries)\n",
    "result = g.query(query)\n",
    "\n",
    "for row in result:\n",
    "    print('', row.artistLabel, '|Number of Songs:', row.songCount)\n",
    "    print('*'*50)"
   ],
   "metadata": {
    "collapsed": false,
    "ExecuteTime": {
     "end_time": "2024-03-24T14:41:23.102825700Z",
     "start_time": "2024-03-24T14:41:22.891288400Z"
    }
   },
   "id": "9851012097b11645"
  },
  {
   "cell_type": "markdown",
   "source": [
    "Get the top 10 songs of each artist and find the most successful labels in terms of number of 10 songs."
   ],
   "metadata": {
    "collapsed": false
   },
   "id": "df10b3c49f53b615"
  },
  {
   "cell_type": "code",
   "execution_count": 208,
   "outputs": [
    {
     "name": "stdout",
     "output_type": "stream",
     "text": [
      "Label Name:  'Roc Nation' Number of Top 10 Songs: 299\n",
      "**************************************************\n",
      "Label Name:  'Westbury Road Entertainment' Number of Top 10 Songs: 299\n",
      "**************************************************\n",
      "Label Name: 'Def Jam Recordings' Number of Top 10 Songs: 299\n",
      "**************************************************\n",
      "Label Name:  'Butterfly MC Records' Number of Top 10 Songs: 286\n",
      "**************************************************\n",
      "Label Name:  'Epic Records' Number of Top 10 Songs: 286\n",
      "**************************************************\n",
      "Label Name:  'Monarc Entertainment' Number of Top 10 Songs: 286\n",
      "**************************************************\n",
      "Label Name:  'Virgin Music' Number of Top 10 Songs: 286\n",
      "**************************************************\n",
      "Label Name: 'Sony Music' Number of Top 10 Songs: 286\n",
      "**************************************************\n",
      "Label Name: 'LaFace Records' Number of Top 10 Songs: 246\n",
      "**************************************************\n",
      "Label Name:  'RBMG Records' Number of Top 10 Songs: 227\n",
      "**************************************************\n",
      "Label Name:  'School Boy Records' Number of Top 10 Songs: 227\n",
      "**************************************************\n",
      "Label Name: 'Island Records' Number of Top 10 Songs: 227\n",
      "**************************************************\n",
      "Label Name:  'Universal Motown Records' Number of Top 10 Songs: 219\n",
      "**************************************************\n",
      "Label Name:  'Capitol Records' Number of Top 10 Songs: 214\n",
      "**************************************************\n",
      "Label Name:  'I Dischi dello Zodiaco' Number of Top 10 Songs: 214\n",
      "**************************************************\n",
      "Label Name:  'Parlophon' Number of Top 10 Songs: 214\n",
      "**************************************************\n",
      "Label Name:  'Parlophone' Number of Top 10 Songs: 214\n",
      "**************************************************\n",
      "Label Name:  'Polydor Records' Number of Top 10 Songs: 214\n",
      "**************************************************\n",
      "Label Name:  'United Artists Records' Number of Top 10 Songs: 214\n",
      "**************************************************\n",
      "Label Name:  'Vee-Jay Records' Number of Top 10 Songs: 214\n",
      "**************************************************\n"
     ]
    }
   ],
   "source": [
    "queries = \"\"\"\n",
    "PREFIX schema: <https://schema.org/>\n",
    "PREFIX wdp: <https://www.wikidata.org/wiki/Property:>\n",
    "PREFIX xsd: <http://www.w3.org/2001/XMLSchema#>\n",
    "\n",
    "\n",
    "SELECT ?labelName (COUNT(?song) AS ?top10Count)\n",
    "WHERE {\n",
    "  ?song wdp:P175 ?artist .                # ?song is performed by ?artist.\n",
    "  ?artist wdp:P264 ?label .               # ?artist is signed to ?label.\n",
    "  ?label rdfs:label ?labelName .          # Get the label's name.\n",
    "  ?song wdp:P175 ?artist .                # ?song is performed by ?artist.\n",
    "  ?song wdp:P1352 ?ranking .              # ?song has a ?ranking.\n",
    "  ?ranking schema:value ?rankValue .      # Get the ranking value.\n",
    "  FILTER(?rankValue <= 10)                # Consider only top 10 ranked songs.\n",
    "}\n",
    "GROUP BY ?labelName\n",
    "ORDER BY DESC(?top10Count)\n",
    "\n",
    "LIMIT 20\n",
    "\"\"\"\n",
    "\n",
    "\n",
    "query = prepareQuery(queries)\n",
    "result = g.query(query)\n",
    "\n",
    "\n",
    "for row in result:    \n",
    "    print('Label Name:', row.labelName, 'Number of Top 10 Songs:', row.top10Count)\n",
    "    print('*'*50)"
   ],
   "metadata": {
    "collapsed": false,
    "ExecuteTime": {
     "end_time": "2024-03-24T14:41:35.433063600Z",
     "start_time": "2024-03-24T14:41:32.486139500Z"
    }
   },
   "id": "f732c406bd9bcfc"
  },
  {
   "cell_type": "markdown",
   "source": [
    "This gives us an idea of the most successful labels in terms of top 10 songs. The approach is somehwat flawed, as an artist can have multiple labels, and a song can have multiple artists. This does not take into account if the artist achieved the top 10 ranking while signed to the label."
   ],
   "metadata": {
    "collapsed": false
   },
   "id": "fca7a0c3d753d899"
  },
  {
   "cell_type": "code",
   "execution_count": null,
   "outputs": [],
   "source": [
    "#### Relationship Between Public Image and Social Media Presence"
   ],
   "metadata": {
    "collapsed": false
   },
   "id": "c673ca964669edd"
  },
  {
   "cell_type": "markdown",
   "source": [
    "#### Get Public Image of Artist and followers on Twitter and Youtube (see if there is a correlation)"
   ],
   "metadata": {
    "collapsed": false
   },
   "id": "5054c8b551f1a4d0"
  },
  {
   "cell_type": "code",
   "execution_count": 210,
   "outputs": [
    {
     "name": "stdout",
     "output_type": "stream",
     "text": [
      "Artist: Mariah Carey |Public Image Score: 111.6931 |Public Image: Positive |Total Followers: 32.51M\n",
      "**************************************************\n",
      "Artist: Shakira |Public Image Score: 65.51752 |Public Image: Positive |Total Followers: 99.16M\n",
      "**************************************************\n",
      "Artist: Elvis Presley |Public Image Score: 62.77248 |Public Image: Positive |Total Followers: 418.52K\n",
      "**************************************************\n",
      "Artist: Michael Jackson |Public Image Score: 59.98027 |Public Image: Positive |Total Followers: 32.05M\n",
      "**************************************************\n",
      "Artist: Ariana Grande |Public Image Score: 59.10966 |Public Image: Positive |Total Followers: 129.49M\n",
      "**************************************************\n",
      "Artist: Beyonce |Public Image Score: 58.63214 |Public Image: Positive |Total Followers: 42.47M\n",
      "**************************************************\n",
      "Artist: Led Zeppelin |Public Image Score: 57.33621 |Public Image: Positive |Total Followers: 4.10M\n",
      "**************************************************\n",
      "Artist: Rihanna |Public Image Score: 54.87753 |Public Image: Positive |Total Followers: 144.43M\n",
      "**************************************************\n",
      "Artist: Justin Bieber |Public Image Score: 52.65302 |Public Image: Positive |Total Followers: 185.46M\n",
      "**************************************************\n",
      "Artist: Aretha Franklin |Public Image Score: 51.4398 |Public Image: Positive |Total Followers: 226.77K\n",
      "**************************************************\n",
      "Artist: 2Pac |Public Image Score: 50.59542 |Public Image: Positive |Total Followers: 2.84M\n",
      "**************************************************\n",
      "Artist: Britney Spears |Public Image Score: 47.55444 |Public Image: Positive |Total Followers: 67.98M\n",
      "**************************************************\n",
      "Artist: The Beatles |Public Image Score: 43.92269 |Public Image: Positive |Total Followers: 11.95M\n",
      "**************************************************\n",
      "Artist: Nicki Minaj |Public Image Score: 42.04393 |Public Image: Positive |Total Followers: 49.56M\n",
      "**************************************************\n",
      "Artist: Rod Stewart |Public Image Score: 41.7244 |Public Image: Positive |Total Followers: 2.86M\n",
      "**************************************************\n",
      "Artist: Ed Sheeran |Public Image Score: 39.72297 |Public Image: Positive |Total Followers: 72.82M\n",
      "**************************************************\n",
      "Artist: Lady Gaga |Public Image Score: 39.10844 |Public Image: Positive |Total Followers: 108.71M\n",
      "**************************************************\n",
      "Artist: Barbra Streisand |Public Image Score: 36.13106 |Public Image: Positive |Total Followers: 1.29M\n",
      "**************************************************\n",
      "Artist: Adele |Public Image Score: 35.28015 |Public Image: Positive |Total Followers: 57.38M\n",
      "**************************************************\n",
      "Artist: George Michael |Public Image Score: 32.25157 |Public Image: Positive |Total Followers: 567.31K\n",
      "**************************************************\n"
     ]
    }
   ],
   "source": [
    "queries = \"\"\"\n",
    "PREFIX schema: <https://schema.org/>\n",
    "PREFIX wdp: <https://www.wikidata.org/wiki/Property:>\n",
    "PREFIX xsd: <http://www.w3.org/2001/XMLSchema#>\n",
    "PREFIX rdfs: <http://www.w3.org/2000/01/rdf-schema#>\n",
    "PREFIX wd: <https://www.wikidata.org/wiki/>\n",
    "\n",
    "SELECT DISTINCT ?artistName ((?twitterFollowers+ ?youtubeFollowers)AS ?totalFollowers) ?publicImageScore ?publicImage\n",
    "WHERE {\n",
    "  ?artist a wd:Q639669 .\n",
    "  ?artist rdfs:label ?artistName .\n",
    "  ?artist schema:hasTwitterFollowers ?twitterFollowers .\n",
    "  ?artist schema:hasYoutubeFollowers ?youtubeFollowers .\n",
    "  \n",
    "  ?artist wdp:P1552 ?characteristic .\n",
    "  ?characteristic a wd:Q6738447 ;\n",
    "                  wdp:P444 ?publicImageScore .\n",
    "  \n",
    "  BIND(\n",
    "    IF(?publicImageScore > 10, \"Positive\", \n",
    "      IF(?publicImageScore > 0, \"Mixed\", \"Negative\")\n",
    "    ) AS ?publicImage\n",
    "  )\n",
    "}\n",
    "ORDER BY DESC(?publicImageScore)\n",
    "LIMIT 20\n",
    "\n",
    "\"\"\"\n",
    "query = prepareQuery(queries)\n",
    "result = g.query(query)\n",
    "\n",
    "\n",
    "for row in result:    \n",
    "    # print('Artist:', row.artistName,'|Public Image Score:',row.publicImageScore,'|Public Image:',row.publicImage ,'|Twitter Followers:', format_large_number(row.twitterFollowers), '|Youtube Followers:', format_large_number(row.youtubeFollowers))\n",
    "    print('Artist:', row.artistName,'|Public Image Score:',row.publicImageScore,'|Public Image:',row.publicImage ,'|Total Followers:', format_large_number(row.totalFollowers))\n",
    "    print('*'*50)"
   ],
   "metadata": {
    "collapsed": false,
    "ExecuteTime": {
     "end_time": "2024-03-24T14:41:42.247162400Z",
     "start_time": "2024-03-24T14:41:41.974286500Z"
    }
   },
   "id": "9d23fa9640fb55d6"
  },
  {
   "cell_type": "markdown",
   "source": [
    "#### Get Public Image of Artist and First Post Date (see if nostalgia has an effect on public image)"
   ],
   "metadata": {
    "collapsed": false
   },
   "id": "35491eb3b3d78dbc"
  },
  {
   "cell_type": "code",
   "execution_count": 212,
   "outputs": [
    {
     "name": "stdout",
     "output_type": "stream",
     "text": [
      "Artist: Mariah Carey |Public Image Score: 111.6931 |Public Image: Positive |First Post Date: 1990-07-21\n",
      "**************************************************\n",
      "Artist: Frank Sinatra |Public Image Score: 80.54346 |Public Image: Positive |First Post Date: 1966-06-04\n",
      "**************************************************\n",
      "Artist: Alicia Keys |Public Image Score: 74.83484 |Public Image: Positive |First Post Date: 2001-08-04\n",
      "**************************************************\n",
      "Artist: Shakira |Public Image Score: 65.51752 |Public Image: Positive |First Post Date: 2001-12-15\n",
      "**************************************************\n",
      "Artist: Elvis Presley |Public Image Score: 62.77248 |Public Image: Positive |First Post Date: 1958-08-04\n",
      "**************************************************\n",
      "Artist: Whitney Houston |Public Image Score: 61.34449 |Public Image: Positive |First Post Date: 1985-07-06\n",
      "**************************************************\n",
      "Artist: Michael Jackson |Public Image Score: 59.98027 |Public Image: Positive |First Post Date: 1971-11-20\n",
      "**************************************************\n",
      "Artist: Ariana Grande |Public Image Score: 59.10966 |Public Image: Positive |First Post Date: 2013-04-13\n",
      "**************************************************\n",
      "Artist: Beyonce |Public Image Score: 58.63214 |Public Image: Positive |First Post Date: 2003-06-14\n",
      "**************************************************\n",
      "Artist: Led Zeppelin |Public Image Score: 57.33621 |Public Image: Positive |First Post Date: 1969-12-27\n",
      "**************************************************\n",
      "Artist: Justin Timberlake |Public Image Score: 56.66602 |Public Image: Positive |First Post Date: 2003-01-25\n",
      "**************************************************\n",
      "Artist: Rihanna |Public Image Score: 54.87753 |Public Image: Positive |First Post Date: 2005-07-16\n",
      "**************************************************\n",
      "Artist: Justin Bieber |Public Image Score: 52.65302 |Public Image: Positive |First Post Date: 2011-03-05\n",
      "**************************************************\n",
      "Artist: Aretha Franklin |Public Image Score: 51.4398 |Public Image: Positive |First Post Date: 1967-04-15\n",
      "**************************************************\n",
      "Artist: Katy Perry |Public Image Score: 51.00132 |Public Image: Positive |First Post Date: 2008-06-14\n",
      "**************************************************\n",
      "Artist: 2Pac |Public Image Score: 50.59542 |Public Image: Positive |First Post Date: 1995-04-29\n",
      "**************************************************\n",
      "Artist: Eminem |Public Image Score: 47.74444 |Public Image: Positive |First Post Date: 2000-06-10\n",
      "**************************************************\n",
      "Artist: Britney Spears |Public Image Score: 47.55444 |Public Image: Positive |First Post Date: 1998-12-12\n",
      "**************************************************\n",
      "Artist: Christina Aguilera |Public Image Score: 47.22065 |Public Image: Positive |First Post Date: 1999-07-17\n",
      "**************************************************\n",
      "Artist: The Beatles |Public Image Score: 43.92269 |Public Image: Positive |First Post Date: 1964-01-25\n",
      "**************************************************\n"
     ]
    }
   ],
   "source": [
    "queries = \"\"\"\n",
    "PREFIX schema: <https://schema.org/>\n",
    "PREFIX wdp: <https://www.wikidata.org/wiki/Property:>\n",
    "PREFIX xsd: <http://www.w3.org/2001/XMLSchema#>\n",
    "PREFIX rdfs: <http://www.w3.org/2000/01/rdf-schema#>\n",
    "PREFIX wd: <https://www.wikidata.org/wiki/>\n",
    "\n",
    "SELECT ?artistName ?publicImage ?publicImageScore (MIN(?datePosted) AS ?firstPostDate)\n",
    "WHERE {\n",
    "  ?artist a wd:Q639669 .\n",
    "  ?artist rdfs:label ?artistName .\n",
    "  ?song wdp:P175 ?artist ;\n",
    "        wdp:P1352 ?ranking .\n",
    "  ?ranking schema:datePosted ?datePosted .\n",
    "  \n",
    "  ?artist wdp:P1552 ?characteristic .\n",
    "    ?characteristic a wd:Q6738447 ;\n",
    "                    wdp:P444 ?publicImageScore .\n",
    "  \n",
    "   BIND(\n",
    "    IF(?publicImageScore > 10, \"Positive\", \n",
    "      IF(?publicImageScore > 0, \"Mixed\", \"Negative\")\n",
    "    ) AS ?publicImage\n",
    "  )\n",
    "\n",
    "}\n",
    "GROUP BY ?artistName\n",
    "ORDER BY DESC(?publicImageScore)\n",
    "LIMIT 20\n",
    "\"\"\"\n",
    "query = prepareQuery(queries)\n",
    "result = g.query(query)\n",
    "\n",
    "\n",
    "for row in result:    \n",
    "    print('Artist:', row.artistName,'|Public Image Score:',row.publicImageScore,'|Public Image:',row.publicImage ,'|First Post Date:', row.firstPostDate)\n",
    "    print('*'*50)"
   ],
   "metadata": {
    "collapsed": false,
    "ExecuteTime": {
     "end_time": "2024-03-25T12:47:24.524033400Z",
     "start_time": "2024-03-25T12:47:22.633913500Z"
    }
   },
   "id": "e03f6ab971070863"
  },
  {
   "cell_type": "code",
   "execution_count": null,
   "outputs": [],
   "source": [],
   "metadata": {
    "collapsed": false
   },
   "id": "876325e6cc3ccd9a"
  }
 ],
 "metadata": {
  "kernelspec": {
   "display_name": "Python 3",
   "language": "python",
   "name": "python3"
  },
  "language_info": {
   "codemirror_mode": {
    "name": "ipython",
    "version": 2
   },
   "file_extension": ".py",
   "mimetype": "text/x-python",
   "name": "python",
   "nbconvert_exporter": "python",
   "pygments_lexer": "ipython2",
   "version": "2.7.6"
  }
 },
 "nbformat": 4,
 "nbformat_minor": 5
}
