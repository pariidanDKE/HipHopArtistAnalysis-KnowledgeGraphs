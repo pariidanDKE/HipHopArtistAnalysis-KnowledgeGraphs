{
 "cells": [
  {
   "cell_type": "code",
   "execution_count": 56,
   "outputs": [],
   "source": [
    "import numpy as np\n",
    "import pandas as pd\n",
    "\n",
    "import os\n",
    "import networkx as nx\n",
    "from matplotlib import pyplot as plt\n",
    "from rdflib import Graph\n",
    "from rdflib.plugins.sparql import prepareQuery"
   ],
   "metadata": {
    "collapsed": false,
    "ExecuteTime": {
     "end_time": "2024-03-24T11:58:08.085029900Z",
     "start_time": "2024-03-24T11:58:07.504822600Z"
    }
   },
   "id": "91d739e9ae8e2b9b"
  },
  {
   "cell_type": "markdown",
   "source": [
    "# Quality Assessment\n",
    "\n",
    "\n",
    "#### Load Graphs"
   ],
   "metadata": {
    "collapsed": false
   },
   "id": "8da9c024ba5f7822"
  },
  {
   "cell_type": "code",
   "execution_count": 57,
   "outputs": [
    {
     "data": {
      "text/plain": "<Graph identifier=N424c195da8d04de98ba709f5f8105cb8 (<class 'rdflib.graph.Graph'>)>"
     },
     "execution_count": 57,
     "metadata": {},
     "output_type": "execute_result"
    }
   ],
   "source": [
    "g = Graph() # the oxigraph stuff makes queries run faster\n",
    "\n",
    "g.parse('KnowledgeGraphs/knowledge_graph.ttl', format=\"turtle\")\n",
    "g.parse('KnowledgeGraphs/ontology_graph.ttl', format=\"turtle\")\n"
   ],
   "metadata": {
    "collapsed": false,
    "ExecuteTime": {
     "end_time": "2024-03-24T11:58:27.425630600Z",
     "start_time": "2024-03-24T11:58:08.132322300Z"
    }
   },
   "id": "ab2592b3a2bf3050"
  },
  {
   "cell_type": "markdown",
   "source": [
    "#### Correctness - Check Literals\n",
    "\n"
   ],
   "metadata": {
    "collapsed": false
   },
   "id": "9e96c470dda2274c"
  },
  {
   "cell_type": "code",
   "execution_count": null,
   "outputs": [],
   "source": [
    "\n"
   ],
   "metadata": {
    "collapsed": false
   },
   "id": "78c8da9eea5f60ee"
  },
  {
   "cell_type": "code",
   "execution_count": null,
   "outputs": [],
   "source": [
    "# Adapted from lab 6 (REFERENCE)\n",
    "# SPARQL queries to check datatypes of literals\n",
    "queries =\"\"\"\n",
    "prefix dbo:    <http://dbpedia.org/ontology/> \n",
    "PREFIX rdf:    <http://www.w3.org/1999/02/22-rdf-syntax-ns#>\n",
    "PREFIX rdfs:   <http://www.w3.org/2000/01/rdf-schema#>\n",
    "\n",
    "SELECT DISTINCT ?literal ?range ?literalType\n",
    "WHERE \n",
    "{ \n",
    "   ?s ?p ?literal . \n",
    "   FILTER ( isLiteral(?literal) &&  ?p != rdfs:label )\n",
    "   ?p rdfs:range ?range .\n",
    "   BIND (datatype(?literal) AS ?literalType)\n",
    "\n",
    "   FILTER (?range != ?literalType)\n",
    "}\n",
    "\n",
    "\"\"\"\n",
    "\n",
    "query = prepareQuery(queries)\n",
    "result = g.query(query)\n",
    "\n",
    "for row in result:\n",
    "   print(f\"object {row['literal']}, has type: {row['range']}, is type: {row['literalType']} \")\n",
    "    \n"
   ],
   "metadata": {
    "collapsed": false
   },
   "id": "ca76ee06d7dc66ba"
  },
  {
   "cell_type": "code",
   "execution_count": 38,
   "outputs": [],
   "source": [
    "# Adapted from lab 6 (REFERENCE)\n",
    "# SPARQL queries to check datatypes\n",
    "queries =\"\"\"\n",
    "prefix dbo:     <http://dbpedia.org/ontology/> \n",
    "PREFIX rdf:     <http://www.w3.org/1999/02/22-rdf-syntax-ns#>\n",
    "PREFIX rdfs:    <http://www.w3.org/2000/01/rdf-schema#>\n",
    "PREFIX wdp: <https://www.wikidata.org/wiki/Property:>\n",
    "\n",
    "SELECT DISTINCT ?obj ?objType ?range ?pred\n",
    "WHERE {\n",
    "    ?sub ?pred ?obj .\n",
    "\n",
    "    ?pred rdfs:range ?range .\n",
    "\n",
    "    # Check that the type of ?obj is the same as ?range\n",
    "    ?obj rdf:type ?objType .\n",
    " \n",
    "   FILTER NOT EXISTS { ?obj rdf:type/rdfs:subClassOf* ?range}\n",
    "   FILTER(?pred != wdp:P1552)\n",
    "} \n",
    "\"\"\"\n",
    "\n",
    "query = prepareQuery(queries)\n",
    "result = g.query(query)\n",
    "\n",
    "for row in result:\n",
    "   print(f\"Object: {row['obj']}, Object Type: {row['objType']}, Range: {row['range']}, Pred: {row['pred']}\")\n"
   ],
   "metadata": {
    "collapsed": false,
    "ExecuteTime": {
     "end_time": "2024-03-23T15:41:35.492753Z",
     "start_time": "2024-03-23T15:41:17.461421800Z"
    }
   },
   "id": "38e0cd83c3228a9e"
  },
  {
   "cell_type": "markdown",
   "source": [
    "\n",
    "## Conciseness  \n",
    "\n",
    "\n",
    "#### Each artist,song has one name\n"
   ],
   "metadata": {
    "collapsed": false
   },
   "id": "d790bd3fc0583f65"
  },
  {
   "cell_type": "code",
   "execution_count": 39,
   "outputs": [],
   "source": [
    "artist1_label_query = \"\"\"\n",
    "PREFIX rdf: <http://www.w3.org/1999/02/22-rdf-syntax-ns#>\n",
    "PREFIX wd: <https://www.wikidata.org/wiki/>\n",
    "PREFIX wdp: <https://www.wikidata.org/wiki/Property:>\n",
    "\n",
    "SELECT ?artist ?label\n",
    "WHERE {\n",
    "  ?artist rdf:type wd:Q639669 .\n",
    "  ?artist rdfs:label ?label .\n",
    "}\n",
    "GROUP BY ?artist\n",
    "HAVING (COUNT(?label) > 1)\n",
    "\"\"\"\n",
    "\n",
    "query = prepareQuery(queries)\n",
    "result = g.query(query)\n",
    "\n",
    "for row in result:\n",
    "    print(f\"Artist: {row['artist']} has more than one label: {row['label']}\")"
   ],
   "metadata": {
    "collapsed": false,
    "ExecuteTime": {
     "end_time": "2024-03-23T15:41:52.962591300Z",
     "start_time": "2024-03-23T15:41:35.504296800Z"
    }
   },
   "id": "23ce2ac9061ef2bc"
  },
  {
   "cell_type": "code",
   "execution_count": 40,
   "outputs": [],
   "source": [
    "song1_label_query = \"\"\"\n",
    "PREFIX rdf: <http://www.w3.org/1999/02/22-rdf-syntax-ns#>\n",
    "PREFIX wd: <https://www.wikidata.org/wiki/>\n",
    "PREFIX wdp: <https://www.wikidata.org/wiki/Property:>\n",
    "\n",
    "SELECT ?song ?label\n",
    "WHERE {\n",
    "  ?song rdf:type wd:Q7366 .\n",
    "  ?song rdfs:label ?label .\n",
    "}\n",
    "GROUP BY ?song\n",
    "HAVING (COUNT(?label) > 1)\n",
    "\n",
    "\"\"\"\n",
    "\n",
    "query = prepareQuery(queries)\n",
    "result = g.query(query)\n",
    "\n",
    "for row in result:\n",
    "    print(f\"Song: {row['song']} has more than one label: {row['label']}\")\n",
    "    "
   ],
   "metadata": {
    "collapsed": false,
    "ExecuteTime": {
     "end_time": "2024-03-23T15:42:12.648540900Z",
     "start_time": "2024-03-23T15:41:52.966581Z"
    }
   },
   "id": "af68f583c56df68f"
  },
  {
   "cell_type": "markdown",
   "source": [
    "#### Typing check - All subjects should have a type declared\n"
   ],
   "metadata": {
    "collapsed": false
   },
   "id": "796b47b9c02478be"
  },
  {
   "cell_type": "code",
   "execution_count": 53,
   "outputs": [],
   "source": [
    "# SPARQL queries to check datatypes\n",
    "queries = \"\"\"\n",
    "prefix dbo:     <http://dbpedia.org/ontology/> \n",
    "PREFIX rdf:     <http://www.w3.org/1999/02/22-rdf-syntax-ns#>\n",
    "PREFIX rdfs:    <http://www.w3.org/2000/01/rdf-schema#>\n",
    "\n",
    "SELECT DISTINCT ?sub ?domain ?pred \n",
    "WHERE {\n",
    "    ?sub ?pred ?o .\n",
    "    FILTER NOT EXISTS{ ?sub a ?st}\n",
    "    ?pred rdfs:domain ?domain .\n",
    "    \n",
    "    \n",
    " \n",
    "    \n",
    "} \n",
    "\"\"\"\n",
    "   # ?domain rdfs:label ?domainLabel.\n",
    "   #  ?sub rdfs:label ?subLabel .\n",
    "   #  ?pred rdfs:label ?predLabel .\n",
    "   #  ?o rdfs:label ?oLabel .\n",
    " \n",
    "query = prepareQuery(queries)\n",
    "result = g.query(query)\n",
    "\n",
    "for row in result:\n",
    "   print(f\"Subject: {row['sub']} has no type. And it should be of type {row['domain']}, according to the predicate {row['pred']}\")"
   ],
   "metadata": {
    "collapsed": false,
    "ExecuteTime": {
     "end_time": "2024-03-23T16:19:14.874175300Z",
     "start_time": "2024-03-23T16:19:02.375705Z"
    }
   },
   "id": "fe051e6801f8a4c2"
  },
  {
   "cell_type": "markdown",
   "source": [
    "#### Check for missing values"
   ],
   "metadata": {
    "collapsed": false
   },
   "id": "351fee056b7ed77"
  },
  {
   "cell_type": "code",
   "execution_count": 58,
   "outputs": [],
   "source": [
    "# Adapted from lab 6 (REFERENCE)\n",
    "# SPARQL queries to check datatypes of literals\n",
    "queries = \"\"\"\n",
    "prefix dbo:    <http://dbpedia.org/ontology/> \n",
    "PREFIX rdf:    <http://www.w3.org/1999/02/22-rdf-syntax-ns#>\n",
    "PREFIX rdfs:   <http://www.w3.org/2000/01/rdf-schema#>\n",
    "\n",
    "SELECT DISTINCT ?s ?pred ?literalVal\n",
    "WHERE \n",
    "{ \n",
    "   ?s ?pred ?literal . \n",
    "   FILTER ( isLiteral(?literal))\n",
    "   BIND (lcase(str(?literal)) AS ?literalVal)\n",
    "   FILTER (?literalVal IN (\"nan\", \"\", \"none\" ))\n",
    "}\n",
    "\n",
    "\"\"\"\n",
    "\n",
    "query = prepareQuery(queries)\n",
    "result = g.query(query)\n",
    "\n",
    "for row in result:\n",
    "   print(f\"Predicate {row['pred']}, has a placeholder value {row['literalVal']} for subject {row['s']}\")\n",
    "   "
   ],
   "metadata": {
    "collapsed": false,
    "ExecuteTime": {
     "end_time": "2024-03-24T11:58:44.710124800Z",
     "start_time": "2024-03-24T11:58:27.457005100Z"
    }
   },
   "id": "f357e81a0ee64bb0"
  },
  {
   "cell_type": "markdown",
   "source": [
    "## Semantic Accuracy - Check for inconsistencies\n",
    "\n",
    "#### Make sure that numeric values are not negative (like Sales, numberOfChildren etc.)"
   ],
   "metadata": {
    "collapsed": false
   },
   "id": "d2b54ffb46f87ebe"
  },
  {
   "cell_type": "code",
   "execution_count": 59,
   "outputs": [],
   "source": [
    "check_negative_values = \"\"\"\n",
    "PREFIX xsd: <http://www.w3.org/2001/XMLSchema#>\n",
    "\n",
    "SELECT DISTINCT ?resource ?resLabel ?property ?propLabel ?value\n",
    "WHERE {\n",
    "    ?resource ?property ?value .\n",
    "    \n",
    "    ?resource rdfs:label ?resLabel .\n",
    "    ?property rdfs:label ?propLabel .\n",
    "    FILTER(datatype(?value) = xsd:double)\n",
    "    FILTER(?value < 0)\n",
    "}\n",
    "\"\"\"\n",
    "query = prepareQuery(queries)\n",
    "result = g.query(query)\n",
    "\n",
    "for row in result:\n",
    "    print(f\"Resource: {row['resLabel']} has a negative value {row['value']} for property {row['propLabel']}\")"
   ],
   "metadata": {
    "collapsed": false,
    "ExecuteTime": {
     "end_time": "2024-03-24T12:00:23.871424300Z",
     "start_time": "2024-03-24T12:00:07.817993Z"
    }
   },
   "id": "cf2e10a38f7ea9ff"
  }
 ],
 "metadata": {
  "kernelspec": {
   "display_name": "Python 3",
   "language": "python",
   "name": "python3"
  },
  "language_info": {
   "codemirror_mode": {
    "name": "ipython",
    "version": 2
   },
   "file_extension": ".py",
   "mimetype": "text/x-python",
   "name": "python",
   "nbconvert_exporter": "python",
   "pygments_lexer": "ipython2",
   "version": "2.7.6"
  }
 },
 "nbformat": 4,
 "nbformat_minor": 5
}
