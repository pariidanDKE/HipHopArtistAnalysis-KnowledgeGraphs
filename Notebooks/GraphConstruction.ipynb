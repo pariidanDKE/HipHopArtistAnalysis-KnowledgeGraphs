{
 "cells": [
  {
   "cell_type": "code",
   "execution_count": 27,
   "outputs": [
    {
     "name": "stdout",
     "output_type": "stream",
     "text": [
      "Requirement already satisfied: rdflib in c:\\users\\danpa\\pycharmprojects\\bmkg_project\\venv\\lib\\site-packages (7.0.0)\n",
      "Requirement already satisfied: isodate<0.7.0,>=0.6.0 in c:\\users\\danpa\\pycharmprojects\\bmkg_project\\venv\\lib\\site-packages (from rdflib) (0.6.1)\n",
      "Requirement already satisfied: pyparsing<4,>=2.1.0 in c:\\users\\danpa\\pycharmprojects\\bmkg_project\\venv\\lib\\site-packages (from rdflib) (3.1.2)\n",
      "Requirement already satisfied: six in c:\\users\\danpa\\pycharmprojects\\bmkg_project\\venv\\lib\\site-packages (from isodate<0.7.0,>=0.6.0->rdflib) (1.16.0)\n"
     ]
    },
    {
     "name": "stderr",
     "output_type": "stream",
     "text": [
      "\n",
      "[notice] A new release of pip is available: 23.2.1 -> 24.0\n",
      "[notice] To update, run: python.exe -m pip install --upgrade pip\n"
     ]
    }
   ],
   "source": [
    "!pip install rdflib"
   ],
   "metadata": {
    "collapsed": false,
    "ExecuteTime": {
     "end_time": "2024-03-24T11:54:14.358931100Z",
     "start_time": "2024-03-24T11:54:11.968761200Z"
    }
   },
   "id": "ff40178ce6f29615"
  },
  {
   "cell_type": "code",
   "execution_count": 28,
   "outputs": [],
   "source": [
    "import numpy as np\n",
    "import pandas as pd\n",
    "\n",
    "import os\n",
    "import networkx as nx\n",
    "from matplotlib import pyplot as plt\n",
    "from rdflib import Graph\n",
    "from rdflib.plugins.sparql import prepareQuery"
   ],
   "metadata": {
    "collapsed": false,
    "ExecuteTime": {
     "end_time": "2024-03-24T11:54:14.421420700Z",
     "start_time": "2024-03-24T11:54:14.358931100Z"
    }
   },
   "id": "46b8816949da1d46"
  },
  {
   "cell_type": "markdown",
   "source": [
    "#### Setup"
   ],
   "metadata": {
    "collapsed": false
   },
   "id": "a9643d9fda101fcb"
  },
  {
   "cell_type": "code",
   "execution_count": 29,
   "outputs": [],
   "source": [
    "import pandas as pd\n",
    "from rdflib import Graph, URIRef, Literal, Namespace\n",
    "from rdflib.namespace import RDF, RDFS, XSD, DCTERMS\n",
    "from urllib.parse import quote\n",
    "\n",
    "# Define the namespaces based on your URIs\n",
    "CKO = Namespace(\"https://w3id.org/countrykg/ontology/\")\n",
    "SCHEMA = Namespace(\"https://schema.org/\")\n",
    "WD = Namespace(\"https://www.wikidata.org/wiki/\")\n",
    "WDP = Namespace(\"https://www.wikidata.org/wiki/Property:\")\n",
    "TIME = Namespace(\"https://www.w3.org/2006/time#\")\n",
    "DCTYPES = Namespace(\"http://purl.org/dc/terms/\")\n",
    "DBO = Namespace(\"http://dbpedia.org/ontology/\")\n",
    "\n",
    "# Create a new graph\n",
    "ontology_g = Graph()\n",
    "\n",
    "# Bind the namespace prefixes for more readable output\n",
    "ontology_g.bind(\"cko\", CKO)\n",
    "ontology_g.bind(\"schema\", SCHEMA)\n",
    "ontology_g.bind(\"wd\", WD)\n",
    "ontology_g.bind(\"wdp\", WDP)\n",
    "ontology_g.bind(\"time\", TIME)\n",
    "ontology_g.bind(\"dctypes\", DCTYPES)\n",
    "ontology_g.bind(\"rdfs\", RDFS)\n",
    "ontology_g.bind(\"dbo\", DBO)\n"
   ],
   "metadata": {
    "collapsed": false,
    "ExecuteTime": {
     "end_time": "2024-03-24T11:54:14.421420700Z",
     "start_time": "2024-03-24T11:54:14.374800100Z"
    }
   },
   "id": "93a33ac1ec3b0606"
  },
  {
   "cell_type": "markdown",
   "source": [
    "## Create Schema"
   ],
   "metadata": {
    "collapsed": false
   },
   "id": "d9edb428459925d3"
  },
  {
   "cell_type": "markdown",
   "source": [
    "#### Add Classes"
   ],
   "metadata": {
    "collapsed": false
   },
   "id": "ab608a47a72b2fad"
  },
  {
   "cell_type": "code",
   "execution_count": 30,
   "outputs": [],
   "source": [
    "classes_dict ={\n",
    "    \n",
    "    'Artist':'wd:Q639669'\n",
    "    ,'Family':'wd:Q8436'\n",
    "    ,'PublicImage':'wd:Q6738447'\n",
    "    ,'Label':'wd:Q18127'\n",
    "    ,'Song':'wd:Q7366'\n",
    "    ,'BillboardSpot':'schema:BillboardSpot' # didn't find real class\n",
    "    ,'Ranking':'wd:Q4120621'\n",
    "    ,'Country':'wd:Q6256'\n",
    "    ,'Male':'wd:Q6581097'\n",
    "    ,'Female':'wd:Q6581072'\n",
    "}\n",
    "classes_dict_uri = {\n",
    "    'Artist': WD.Q639669,\n",
    "    'Family': WD.Q8436,\n",
    "    'PublicImage': WD.Q6738447,\n",
    "    'Label': WD.Q18127,\n",
    "    'Song': WD.Q7366,\n",
    "    'BillboardSpot': SCHEMA.BillboardSpot, # Note: Placeholder as the real class wasn't found\n",
    "    'Ranking': WD.Q4120621,\n",
    "    'Country': WD.Q6256,\n",
    "    'Male': WD.Q6581097,\n",
    "    'Female': WD.Q6581072\n",
    "}\n"
   ],
   "metadata": {
    "collapsed": false,
    "ExecuteTime": {
     "end_time": "2024-03-24T11:54:14.437041900Z",
     "start_time": "2024-03-24T11:54:14.390176900Z"
    }
   },
   "id": "c62f5961126588a4"
  },
  {
   "cell_type": "code",
   "execution_count": 31,
   "outputs": [
    {
     "data": {
      "text/plain": "<Graph identifier=N1016582c0ea44b008880e3cab6f580b9 (<class 'rdflib.graph.Graph'>)>"
     },
     "execution_count": 31,
     "metadata": {},
     "output_type": "execute_result"
    }
   ],
   "source": [
    "# Bind common prefixes for readability\n",
    "ontology_g.bind(\"wd\", \"http://www.wikidata.org/entity/\")\n",
    "ontology_g.bind(\"rdfs\", \"http://www.w3.org/2000/01/rdf-schema#\")\n",
    "\n",
    "# Manually adding each triple with Literal(..) for labels and specifying language as 'en'\n",
    "\n",
    "# Artist\n",
    "ontology_g.add((WD.Q639669, RDF.type, RDFS.Class))\n",
    "ontology_g.add((WD.Q639669, RDFS.label, Literal('Artist', lang='en')))\n",
    "\n",
    "# Family\n",
    "ontology_g.add((WD.Q8436, RDF.type, RDFS.Class))\n",
    "ontology_g.add((WD.Q8436, RDFS.label, Literal('Family', lang='en')))\n",
    "\n",
    "# PublicImage\n",
    "ontology_g.add((WD.Q6738447, RDF.type, RDFS.Class))\n",
    "ontology_g.add((WD.Q6738447, RDFS.label, Literal('PublicImage', lang='en')))\n",
    "\n",
    "# Label\n",
    "ontology_g.add((WD.Q18127, RDF.type, RDFS.Class))\n",
    "ontology_g.add((WD.Q18127, RDFS.label, Literal('Label', lang='en')))\n",
    "\n",
    "# Song\n",
    "ontology_g.add((WD.Q7366, RDF.type, RDFS.Class))\n",
    "ontology_g.add((WD.Q7366, RDFS.label, Literal('Song', lang='en')))\n",
    "\n",
    "# Ranking\n",
    "ontology_g.add((WD.Q4120621, RDF.type, RDFS.Class))\n",
    "ontology_g.add((WD.Q4120621, RDFS.label, Literal('Ranking', lang='en')))\n",
    "\n",
    "# Country\n",
    "ontology_g.add((WD.Q6256, RDF.type, RDFS.Class))\n",
    "ontology_g.add((WD.Q6256, RDFS.label, Literal('Country', lang='en')))\n",
    "\n",
    "# Male\n",
    "ontology_g.add((WD.Q6581097, RDF.type, RDFS.Class))\n",
    "ontology_g.add((WD.Q6581097, RDFS.label, Literal('Male', lang='en')))\n",
    "\n",
    "# Female\n",
    "ontology_g.add((WD.Q6581072, RDF.type, RDFS.Class))\n",
    "ontology_g.add((WD.Q6581072, RDFS.label, Literal('Female', lang='en')))\n",
    "\n",
    "#ontology_g.add((SCHEMA.BillboardSpot, RDF.type, RDFS.Class)) # BillboardSpot\n",
    "#ontology_g.add((SCHEMA.BillboardSpot, RDFS.label, 'BillboardSpot'))"
   ],
   "metadata": {
    "collapsed": false,
    "ExecuteTime": {
     "end_time": "2024-03-24T11:54:14.437041900Z",
     "start_time": "2024-03-24T11:54:14.405798900Z"
    }
   },
   "id": "2f2788f6e4b6c179"
  },
  {
   "cell_type": "markdown",
   "source": [
    "\n",
    "#### Add Properties"
   ],
   "metadata": {
    "collapsed": false
   },
   "id": "f497a49e2e78598e"
  },
  {
   "cell_type": "code",
   "execution_count": 32,
   "outputs": [],
   "source": [
    "properties_dict = {\n",
    "    'hasCharacteristic':'Wp:P1552'\n",
    "    ,'record label':'wdp:P264'\n",
    "    ,'performer':'wdp:P175'\n",
    "    ,'ranking':'wdp:P1352'\n",
    "    ,'isFrom':'wdp:P27'\n",
    "    ,'gender':'wdp:P21'\n",
    "    ,'genre': 'wdp.P136'\n",
    "    ,'text':'schema:text'\n",
    "    ,'name':'rdfs:label'\n",
    "    ,'datePosted':'schema:datePosted'\n",
    "    ,'value':'schema:value'\n",
    "    ,'publication date':'wdp:P577'\n",
    "    ,'hasLifeTimeSales':'schema:hasLifeTimeSales'\n",
    "    ,'score':'wdp:P444'\n",
    "    ,'number of children':'wdp.P1971'\n",
    "}\n",
    "properties_dict_uri = {\n",
    "    'hasCharacteristic': WDP.P1552,\n",
    "    'record label': WDP.P264,\n",
    "    'performer': WDP.P175,\n",
    "    'ranking': WDP.P1352,\n",
    "    'isFrom': WDP.P27,\n",
    "    'genre': WDP.P136,\n",
    "    'gender': WDP.P21,\n",
    "    'text': SCHEMA.text,\n",
    "    'name': RDFS.label,\n",
    "    'datePosted': SCHEMA.datePosted,\n",
    "    'value': SCHEMA.value,\n",
    "    'publication date': WDP.P577,\n",
    "    'hasLifeTimeSales': SCHEMA.hasLifeTimeSales\n",
    "    ,'score': WDP.P444\n",
    "    ,'number of children':WDP.P1971\n",
    "    ,'hasTwitterFollowers':SCHEMA.hasTwitterFollowers\n",
    "    ,'hasYoutubeFollowers':SCHEMA.hasYoutubeFollowers\n",
    "}\n"
   ],
   "metadata": {
    "collapsed": false,
    "ExecuteTime": {
     "end_time": "2024-03-24T11:54:14.515554900Z",
     "start_time": "2024-03-24T11:54:14.437041900Z"
    }
   },
   "id": "2584d0ae9fbcf425"
  },
  {
   "cell_type": "code",
   "execution_count": 32,
   "outputs": [],
   "source": [],
   "metadata": {
    "collapsed": false,
    "ExecuteTime": {
     "end_time": "2024-03-24T11:54:14.657055600Z",
     "start_time": "2024-03-24T11:54:14.453056300Z"
    }
   },
   "id": "7c10f296aaca2f8d"
  },
  {
   "cell_type": "code",
   "execution_count": 33,
   "outputs": [
    {
     "data": {
      "text/plain": "<Graph identifier=N1016582c0ea44b008880e3cab6f580b9 (<class 'rdflib.graph.Graph'>)>"
     },
     "execution_count": 33,
     "metadata": {},
     "output_type": "execute_result"
    }
   ],
   "source": [
    "\n",
    "ontology_g.add((WDP.P1552, RDF.type, RDF.Property))  #hasCharacteristic\n",
    "ontology_g.add((WDP.P1552, RDFS.label, Literal('hasCharacteristic', lang='en')))\n",
    "ontology_g.add((WDP.P1552, RDFS.domain, WD.Q639669))  \n",
    "ontology_g.add((WDP.P1552, RDFS.range, WD.Q8436)) \n",
    "ontology_g.add((WDP.P1552, RDFS.range, WD.Q6738447)) \n",
    "\n",
    "ontology_g.add((WDP.P264, RDF.type, RDF.Property))  #record label\n",
    "ontology_g.add((WDP.P264, RDFS.label, Literal('record label', lang='en')))\n",
    "ontology_g.add((WDP.P264, RDFS.domain, WD.Q639669))  \n",
    "ontology_g.add((WDP.P264, RDFS.range, WD.Q18127))  \n",
    "\n",
    "ontology_g.add((WDP.P175, RDF.type, RDF.Property))  #performer\n",
    "ontology_g.add((WDP.P175, RDFS.label, Literal('performer', lang='en')))\n",
    "ontology_g.add((WDP.P175, RDFS.domain, WD.Q7366))  \n",
    "ontology_g.add((WDP.P175, RDFS.range, WD.Q639669))  \n",
    "\n",
    "ontology_g.add((WDP.P1352, RDF.type, RDF.Property))  #ranking\n",
    "ontology_g.add((WDP.P1352, RDFS.label, Literal('ranking', lang='en')))\n",
    "ontology_g.add((WDP.P1352, RDFS.domain, WD.Q7366))  \n",
    "ontology_g.add((WDP.P1352, RDFS.range, WD.Q4120621))\n",
    "\n",
    "ontology_g.add((WDP.P27, RDF.type, RDF.Property))  #isFrom\n",
    "ontology_g.add((WDP.P27, RDFS.label, Literal('isFrom', lang='en')))\n",
    "ontology_g.add((WDP.P27, RDFS.domain, WD.Q639669))\n",
    "ontology_g.add((WDP.P27, RDFS.range, WD.Q6256))  #Country\n",
    "\n",
    "\n",
    "ontology_g.add((WDP.P21, RDF.type, RDF.Property))  #gender\n",
    "ontology_g.add((WDP.P21, RDFS.label, Literal('gender', lang='en')))\n",
    "ontology_g.add((WDP.P21, RDFS.domain, WD.Q639669))  #Artist\n",
    "ontology_g.add((WDP.P21, RDFS.range, WD.Q6581097))  #Male\n",
    "ontology_g.add((WDP.P21, RDFS.range, WD.Q6581072))  #Female\n",
    "\n",
    "ontology_g.add((SCHEMA.text, RDF.type, RDF.Property))  #text\n",
    "ontology_g.add((SCHEMA.text, RDFS.label, Literal('text', lang='en')))\n",
    "ontology_g.add((SCHEMA.text, RDFS.domain, WD.Q6738447))\n",
    "ontology_g.add((SCHEMA.text, RDFS.range, RDF.langString))\n",
    "\n",
    "\n",
    "ontology_g.add((RDFS.label, RDF.type, RDF.Property))  #name\n",
    "ontology_g.add((RDFS.label, RDFS.label, Literal('label', lang='en')))\n",
    "ontology_g.add((RDFS.label, RDFS.range, RDF.langString))\n",
    "\n",
    "ontology_g.add((SCHEMA.datePosted, RDF.type, RDF.Property))  #datePosted\n",
    "ontology_g.add((SCHEMA.datePosted, RDFS.label, Literal('datePosted', lang='en')))\n",
    "ontology_g.add((SCHEMA.datePosted, RDFS.domain, WD.Q4120621))\n",
    "ontology_g.add((SCHEMA.datePosted, RDFS.range, XSD.date))\n",
    "\n",
    "\n",
    "ontology_g.add((SCHEMA.value, RDF.type, RDF.Property))  #value\n",
    "ontology_g.add((SCHEMA.value, RDFS.label, Literal('value', lang='en')))\n",
    "ontology_g.add((SCHEMA.value, RDFS.domain, WD.Q4120621))\n",
    "ontology_g.add((SCHEMA.value, RDFS.range, XSD.integer))\n",
    "\n",
    "\n",
    "ontology_g.add((WDP.P577, RDF.type, RDF.Property))  #publication date\n",
    "ontology_g.add((WDP.P577, RDFS.label, Literal('publication date', lang='en')))\n",
    "ontology_g.add((WDP.P577, RDFS.domain, WD.Q7366))\n",
    "ontology_g.add((WDP.P577, RDFS.range, XSD.date))\n",
    "\n",
    "\n",
    "ontology_g.add((SCHEMA.hasLifeTimeSales, RDF.type, RDF.Property))  #hasLifeTimeSales\n",
    "ontology_g.add((SCHEMA.hasLifeTimeSales, RDFS.label, Literal('hasLifeTimeSales', lang='en')))\n",
    "ontology_g.add((SCHEMA.hasLifeTimeSales, RDFS.domain, WD.Q639669))\n",
    "ontology_g.add((SCHEMA.hasLifeTimeSales, RDFS.range, XSD.double))\n",
    "\n",
    "\n",
    "ontology_g.add((WDP.P136, RDF.type, RDF.Property))  #genre\n",
    "ontology_g.add((WDP.P136, RDFS.label, Literal('genre', lang='en')))\n",
    "ontology_g.add((WDP.P136, RDFS.domain, WD.Q639669))\n",
    "ontology_g.add((WDP.P136, RDFS.range, RDF.langString\n",
    "))\n",
    "\n",
    "\n",
    "ontology_g.add((WDP.P444, RDF.type, RDF.Property))  #score\n",
    "ontology_g.add((WDP.P444, RDFS.label, Literal('score', lang='en')))\n",
    "ontology_g.add((WDP.P444, RDFS.domain, WD.Q6738447))\n",
    "ontology_g.add((WDP.P444, RDFS.range, XSD.double))\n",
    "\n",
    "\n",
    "ontology_g.add((WDP.P1971, RDF.type, RDF.Property))  #number of children\n",
    "ontology_g.add((WDP.P1971, RDFS.label, Literal('number of children (-1 if not available)', lang='en')))\n",
    "\n",
    "ontology_g.add((WDP.P1971, RDFS.domain, WD.Q639669))\n",
    "ontology_g.add((WDP.P1971, RDFS.range, XSD.integer))\n",
    "\n",
    "\n",
    "ontology_g.add((SCHEMA.hasTwitterFollowers, RDF.type, RDF.Property))  #hasTwitterFollowers \n",
    "ontology_g.add((SCHEMA.hasTwitterFollowers, RDFS.label, Literal('hasTwitterFollowers', lang='en')))\n",
    "ontology_g.add((SCHEMA.hasTwitterFollowers, RDFS.domain, WD.Q639669))\n",
    "\n",
    "ontology_g.add((SCHEMA.hasYoutubeFollowers, RDF.type, RDF.Property))  #hasYoutubeFollowers\n",
    "ontology_g.add((SCHEMA.hasYoutubeFollowers, RDFS.label, Literal('hasYoutubeFollowers', lang='en')))\n",
    "ontology_g.add((SCHEMA.hasYoutubeFollowers, RDFS.domain, WD.Q639669))"
   ],
   "metadata": {
    "collapsed": false,
    "ExecuteTime": {
     "end_time": "2024-03-24T11:54:14.657055600Z",
     "start_time": "2024-03-24T11:54:14.499924800Z"
    }
   },
   "id": "bdc26b63b8a06899"
  },
  {
   "cell_type": "code",
   "execution_count": 34,
   "outputs": [
    {
     "data": {
      "text/plain": "<Graph identifier=N1016582c0ea44b008880e3cab6f580b9 (<class 'rdflib.graph.Graph'>)>"
     },
     "execution_count": 34,
     "metadata": {},
     "output_type": "execute_result"
    }
   ],
   "source": [
    "ontology_g.serialize('KnowledgeGraphs//ontology_graph.ttl', format='turtle')"
   ],
   "metadata": {
    "collapsed": false,
    "ExecuteTime": {
     "end_time": "2024-03-24T11:54:14.735184800Z",
     "start_time": "2024-03-24T11:54:14.531172700Z"
    }
   },
   "id": "82e35ce38cd39fa2"
  },
  {
   "cell_type": "markdown",
   "source": [],
   "metadata": {
    "collapsed": false
   },
   "id": "cc6fc7bae15318c5"
  },
  {
   "cell_type": "markdown",
   "source": [
    "## Knowledge Graph Construction"
   ],
   "metadata": {
    "collapsed": false
   },
   "id": "50d68a26e56ec802"
  },
  {
   "cell_type": "markdown",
   "source": [
    "##### Import the preprocessed data%"
   ],
   "metadata": {
    "collapsed": false
   },
   "id": "e1c8ef2f3fa731bc"
  },
  {
   "cell_type": "code",
   "execution_count": 35,
   "outputs": [],
   "source": [
    "import pandas as pd\n",
    "\n",
    "# Create a new graph\n",
    "g = Graph()\n",
    "\n",
    "# Bind the namespace prefixes for more readable output\n",
    "g.bind(\"cko\", CKO)\n",
    "g.bind(\"schema\", SCHEMA)\n",
    "g.bind(\"wd\", WD)\n",
    "g.bind(\"wdp\", WDP)\n",
    "g.bind(\"time\", TIME)\n",
    "g.bind(\"dctypes\", DCTYPES)\n",
    "g.bind(\"rdfs\", RDFS)\n",
    "g.bind(\"dbo\", DBO)\n"
   ],
   "metadata": {
    "collapsed": false,
    "ExecuteTime": {
     "end_time": "2024-03-24T11:54:14.860964900Z",
     "start_time": "2024-03-24T11:54:14.844921700Z"
    }
   },
   "id": "eadf6286aa8036da"
  },
  {
   "cell_type": "code",
   "execution_count": 36,
   "outputs": [
    {
     "name": "stderr",
     "output_type": "stream",
     "text": [
      "C:\\Users\\danpa\\AppData\\Local\\Temp\\ipykernel_39072\\670551846.py:4: DtypeWarning: Columns (15,16) have mixed types. Specify dtype option on import or set low_memory=False.\n",
      "  charts10_df = pd.read_csv('Data//charts10.csv')\n"
     ]
    }
   ],
   "source": [
    "sales_df = pd.read_csv('Data//best_selling_artists.csv')\n",
    "quantity_df = pd.read_csv('Data//celebrity_quantity(children&followers).csv')\n",
    "relatives_label_df = pd.read_csv('Data//celebrity_relatives&label.csv') \n",
    "charts10_df = pd.read_csv('Data//charts10.csv')\n",
    "artist_public_image_df = pd.read_csv('Data//artist_public_image.csv')\n",
    "quantity_df.rename(columns={'Unnamed: 0':'Artist'}, inplace=True)"
   ],
   "metadata": {
    "collapsed": false,
    "ExecuteTime": {
     "end_time": "2024-03-24T11:54:15.152327200Z",
     "start_time": "2024-03-24T11:54:15.057400700Z"
    }
   },
   "id": "83bfda708ec3a5f"
  },
  {
   "cell_type": "code",
   "execution_count": 37,
   "outputs": [
    {
     "data": {
      "text/plain": "    Artist                                           Children      Spouse  \\\n5  Madonna  ['Jesus', 'James the Just', 'Simon, brother of...  ['Joseph']   \n\n                       Siblings RecordLabel  \n5  ['Salome', 'Mary of Clopas']          []  ",
      "text/html": "<div>\n<style scoped>\n    .dataframe tbody tr th:only-of-type {\n        vertical-align: middle;\n    }\n\n    .dataframe tbody tr th {\n        vertical-align: top;\n    }\n\n    .dataframe thead th {\n        text-align: right;\n    }\n</style>\n<table border=\"1\" class=\"dataframe\">\n  <thead>\n    <tr style=\"text-align: right;\">\n      <th></th>\n      <th>Artist</th>\n      <th>Children</th>\n      <th>Spouse</th>\n      <th>Siblings</th>\n      <th>RecordLabel</th>\n    </tr>\n  </thead>\n  <tbody>\n    <tr>\n      <th>5</th>\n      <td>Madonna</td>\n      <td>['Jesus', 'James the Just', 'Simon, brother of...</td>\n      <td>['Joseph']</td>\n      <td>['Salome', 'Mary of Clopas']</td>\n      <td>[]</td>\n    </tr>\n  </tbody>\n</table>\n</div>"
     },
     "execution_count": 37,
     "metadata": {},
     "output_type": "execute_result"
    }
   ],
   "source": [
    "relatives_label_df.loc[relatives_label_df['Artist'] == 'Madonna']"
   ],
   "metadata": {
    "collapsed": false,
    "ExecuteTime": {
     "end_time": "2024-03-24T11:54:15.262173800Z",
     "start_time": "2024-03-24T11:54:15.246125900Z"
    }
   },
   "id": "4c98efac653cfdde"
  },
  {
   "cell_type": "code",
   "execution_count": 38,
   "outputs": [
    {
     "data": {
      "text/plain": "              Artist         Country       period_active  Year  \\\n0        The Beatles  United Kingdom           1960–1970  1962   \n1      Elvis Presley   United States           1954–1977  1956   \n2    Michael Jackson   United States           1964–2009  1971   \n3         Elton John  United Kingdom        1964–present  1970   \n4              Queen  United Kingdom        1971–present  1973   \n..               ...             ...                 ...   ...   \n116       The Police  United Kingdom  1977–19862007–2008  1978   \n117   Gloria Estefan   United States        1975–present  1984   \n118    Barry Manilow   United States        1973–present  1973   \n119             Kiss   United States        1972–present  1974   \n120  Aretha Franklin   United States           1956–2018  1961   \n\n                               Genre            TCU                   Sales  \n0                         Rock / pop  290.4 million  600 million500 million  \n1      Rock and roll / pop / country  231.2 million             500 million  \n2    Pop / rock / dance / soul / R&B  277.3 million             400 million  \n3                         Pop / rock    208 million  300 million250 million  \n4                               Rock    184 million  300 million250 million  \n..                               ...            ...                     ...  \n116                       Pop / rock   42.2 million              75 million  \n117            Latin pop / dance pop   37.6 million              75 million  \n118                  Pop / soft rock   36.7 million              75 million  \n119          Hard rock / heavy metal   28.7 million              75 million  \n120        Soul / jazz / blues / R&B   26.6 million              75 million  \n\n[121 rows x 7 columns]",
      "text/html": "<div>\n<style scoped>\n    .dataframe tbody tr th:only-of-type {\n        vertical-align: middle;\n    }\n\n    .dataframe tbody tr th {\n        vertical-align: top;\n    }\n\n    .dataframe thead th {\n        text-align: right;\n    }\n</style>\n<table border=\"1\" class=\"dataframe\">\n  <thead>\n    <tr style=\"text-align: right;\">\n      <th></th>\n      <th>Artist</th>\n      <th>Country</th>\n      <th>period_active</th>\n      <th>Year</th>\n      <th>Genre</th>\n      <th>TCU</th>\n      <th>Sales</th>\n    </tr>\n  </thead>\n  <tbody>\n    <tr>\n      <th>0</th>\n      <td>The Beatles</td>\n      <td>United Kingdom</td>\n      <td>1960–1970</td>\n      <td>1962</td>\n      <td>Rock / pop</td>\n      <td>290.4 million</td>\n      <td>600 million500 million</td>\n    </tr>\n    <tr>\n      <th>1</th>\n      <td>Elvis Presley</td>\n      <td>United States</td>\n      <td>1954–1977</td>\n      <td>1956</td>\n      <td>Rock and roll / pop / country</td>\n      <td>231.2 million</td>\n      <td>500 million</td>\n    </tr>\n    <tr>\n      <th>2</th>\n      <td>Michael Jackson</td>\n      <td>United States</td>\n      <td>1964–2009</td>\n      <td>1971</td>\n      <td>Pop / rock / dance / soul / R&amp;B</td>\n      <td>277.3 million</td>\n      <td>400 million</td>\n    </tr>\n    <tr>\n      <th>3</th>\n      <td>Elton John</td>\n      <td>United Kingdom</td>\n      <td>1964–present</td>\n      <td>1970</td>\n      <td>Pop / rock</td>\n      <td>208 million</td>\n      <td>300 million250 million</td>\n    </tr>\n    <tr>\n      <th>4</th>\n      <td>Queen</td>\n      <td>United Kingdom</td>\n      <td>1971–present</td>\n      <td>1973</td>\n      <td>Rock</td>\n      <td>184 million</td>\n      <td>300 million250 million</td>\n    </tr>\n    <tr>\n      <th>...</th>\n      <td>...</td>\n      <td>...</td>\n      <td>...</td>\n      <td>...</td>\n      <td>...</td>\n      <td>...</td>\n      <td>...</td>\n    </tr>\n    <tr>\n      <th>116</th>\n      <td>The Police</td>\n      <td>United Kingdom</td>\n      <td>1977–19862007–2008</td>\n      <td>1978</td>\n      <td>Pop / rock</td>\n      <td>42.2 million</td>\n      <td>75 million</td>\n    </tr>\n    <tr>\n      <th>117</th>\n      <td>Gloria Estefan</td>\n      <td>United States</td>\n      <td>1975–present</td>\n      <td>1984</td>\n      <td>Latin pop / dance pop</td>\n      <td>37.6 million</td>\n      <td>75 million</td>\n    </tr>\n    <tr>\n      <th>118</th>\n      <td>Barry Manilow</td>\n      <td>United States</td>\n      <td>1973–present</td>\n      <td>1973</td>\n      <td>Pop / soft rock</td>\n      <td>36.7 million</td>\n      <td>75 million</td>\n    </tr>\n    <tr>\n      <th>119</th>\n      <td>Kiss</td>\n      <td>United States</td>\n      <td>1972–present</td>\n      <td>1974</td>\n      <td>Hard rock / heavy metal</td>\n      <td>28.7 million</td>\n      <td>75 million</td>\n    </tr>\n    <tr>\n      <th>120</th>\n      <td>Aretha Franklin</td>\n      <td>United States</td>\n      <td>1956–2018</td>\n      <td>1961</td>\n      <td>Soul / jazz / blues / R&amp;B</td>\n      <td>26.6 million</td>\n      <td>75 million</td>\n    </tr>\n  </tbody>\n</table>\n<p>121 rows × 7 columns</p>\n</div>"
     },
     "execution_count": 38,
     "metadata": {},
     "output_type": "execute_result"
    }
   ],
   "source": [
    "sales_df"
   ],
   "metadata": {
    "collapsed": false,
    "ExecuteTime": {
     "end_time": "2024-03-24T11:54:15.513418600Z",
     "start_time": "2024-03-24T11:54:15.466544900Z"
    }
   },
   "id": "9eff998a39e738c8"
  },
  {
   "cell_type": "code",
   "execution_count": 39,
   "outputs": [],
   "source": [
    "## Add Artist\n",
    "for i in range(len(sales_df)):\n",
    "    artist = URIRef(WD + quote(sales_df['Artist'][i]))\n",
    "    g.add((artist, RDF.type, classes_dict_uri['Artist']))\n",
    "    g.add((artist, RDFS.label, Literal(sales_df['Artist'][i], lang='en')))\n",
    "    \n",
    "    g.add((artist, properties_dict_uri['hasLifeTimeSales'], Literal(float(sales_df['TCU'][i].split()[0]),datatype=XSD.double)))\n",
    "    g.add((artist,properties_dict_uri['genre'], Literal(sales_df['Genre'][i], lang='en')))     \n",
    "    "
   ],
   "metadata": {
    "collapsed": false,
    "ExecuteTime": {
     "end_time": "2024-03-24T11:54:15.686260600Z",
     "start_time": "2024-03-24T11:54:15.654822300Z"
    }
   },
   "id": "f589b417df8ef118"
  },
  {
   "cell_type": "code",
   "execution_count": 40,
   "outputs": [
    {
     "data": {
      "text/plain": "<Graph identifier=Nf44a790461fb425396682f633a909df1 (<class 'rdflib.graph.Graph'>)>"
     },
     "execution_count": 40,
     "metadata": {},
     "output_type": "execute_result"
    }
   ],
   "source": [
    "# add madonna label\n",
    "madonna_uri = URIRef(WD + quote('Madonna'))\n",
    "g.add((madonna_uri, RDFS.label, Literal('Madonna', lang='en')))"
   ],
   "metadata": {
    "collapsed": false,
    "ExecuteTime": {
     "end_time": "2024-03-24T11:54:15.937752600Z",
     "start_time": "2024-03-24T11:54:15.859605800Z"
    }
   },
   "id": "7dc128a943589d5d"
  },
  {
   "cell_type": "code",
   "execution_count": 41,
   "outputs": [],
   "source": [
    "## Add Public Image\n",
    "        \n",
    "for idx,row in artist_public_image_df.iterrows():\n",
    "    artist = URIRef(WD + quote(row['Artist']))\n",
    "    public_image = URIRef(WD + quote(row['Public Image']) + '#' + quote(row['Artist']))\n",
    "    \n",
    "    \n",
    "    g.add((public_image, RDF.type, classes_dict_uri['PublicImage']))\n",
    "    g.add((public_image, RDFS.label, Literal(row['Public Image'], lang='en')))\n",
    "    \n",
    "    g.add((artist, properties_dict_uri['hasCharacteristic'], public_image))\n",
    "    g.add((public_image, properties_dict_uri['score'], Literal(row['Public Image Score'],datatype=XSD.double)))"
   ],
   "metadata": {
    "collapsed": false,
    "ExecuteTime": {
     "end_time": "2024-03-24T11:54:16.110947500Z",
     "start_time": "2024-03-24T11:54:16.079362100Z"
    }
   },
   "id": "a102044fb044e7a9"
  },
  {
   "cell_type": "code",
   "execution_count": 42,
   "outputs": [],
   "source": [
    "## add country of artist\n",
    "country_occurrence = []\n",
    "for i in range(len(sales_df)):\n",
    "    country_uri = URIRef(WD + quote(sales_df['Country'][i]))\n",
    "    \n",
    "    if sales_df['Country'][i] not in country_occurrence:\n",
    "        g.add((country_uri, RDF.type, classes_dict_uri['Country']))\n",
    "        g.add((country_uri, RDFS.label, Literal(sales_df['Country'][i], lang='en')))\n",
    "        country_occurrence.append(sales_df['Country'][i])\n",
    "\n",
    "    artist_uri = URIRef(WD + quote(sales_df['Artist'][i]))\n",
    "    g.add((artist_uri, properties_dict_uri['isFrom'], country_uri))"
   ],
   "metadata": {
    "collapsed": false,
    "ExecuteTime": {
     "end_time": "2024-03-24T11:54:16.410332400Z",
     "start_time": "2024-03-24T11:54:16.354412300Z"
    }
   },
   "id": "321649d2d29fe012"
  },
  {
   "cell_type": "code",
   "execution_count": 43,
   "outputs": [],
   "source": [
    "import re\n",
    "\n",
    "\n",
    "# add number of children\n",
    "for idx, row in quantity_df.iterrows():\n",
    "    artist = URIRef(WD + quote(row['Artist']))\n",
    "    family = URIRef(WD + 'Family' + '#' + quote(row['Artist']))\n",
    "    \n",
    "    g.add((family, RDF.type, classes_dict_uri['Family']))\n",
    "    g.add((family, RDFS.label, Literal(('Family of '+ row['Artist']), lang='en')))\n",
    "    \n",
    "    \n",
    "    res = re.search(r'\\d+', row['numberOfChildren'])\n",
    "    if res:\n",
    "        number_of_children = int(res.group())\n",
    "        g.add((family, properties_dict_uri['number of children'], Literal(number_of_children,datatype=XSD.integer)))\n",
    "\n",
    "\n",
    "    g.add((artist, properties_dict_uri['hasCharacteristic'], family))"
   ],
   "metadata": {
    "collapsed": false,
    "ExecuteTime": {
     "end_time": "2024-03-24T11:54:16.556385600Z",
     "start_time": "2024-03-24T11:54:16.536074700Z"
    }
   },
   "id": "6f55ce60fab11cd2"
  },
  {
   "cell_type": "code",
   "execution_count": 43,
   "outputs": [],
   "source": [],
   "metadata": {
    "collapsed": false,
    "ExecuteTime": {
     "end_time": "2024-03-24T11:54:16.903253300Z",
     "start_time": "2024-03-24T11:54:16.793408800Z"
    }
   },
   "id": "1f2408416aa45258"
  },
  {
   "cell_type": "code",
   "execution_count": 44,
   "outputs": [
    {
     "name": "stdout",
     "output_type": "stream",
     "text": [
      "https://www.wikidata.org/wiki/%27Apple%20Records%27#The%20Beatles\n",
      "https://www.wikidata.org/wiki/%20%27Capitol%20Records%27#The%20Beatles\n",
      "https://www.wikidata.org/wiki/%20%27Parlophone%27#The%20Beatles\n",
      "https://www.wikidata.org/wiki/%20%27United%20Artists%20Records%27#The%20Beatles\n",
      "https://www.wikidata.org/wiki/%20%27Vee-Jay%20Records%27#The%20Beatles\n",
      "https://www.wikidata.org/wiki/%20%27Polydor%20Records%27#The%20Beatles\n",
      "https://www.wikidata.org/wiki/%20%27Parlophon%27#The%20Beatles\n",
      "https://www.wikidata.org/wiki/%20%27I%20Dischi%20dello%20Zodiaco%27#The%20Beatles\n",
      "https://www.wikidata.org/wiki/%27Sun%20Records%27#Elvis%20Presley\n",
      "https://www.wikidata.org/wiki/%20%27RCA%20Victor%27#Elvis%20Presley\n",
      "https://www.wikidata.org/wiki/%27Epic%20Records%27#Michael%20Jackson\n",
      "https://www.wikidata.org/wiki/%20%27Sony%20Music%27#Michael%20Jackson\n",
      "https://www.wikidata.org/wiki/%20%27Motown%27#Michael%20Jackson\n",
      "https://www.wikidata.org/wiki/%20%27Universal%20Music%20Group%27#Michael%20Jackson\n",
      "https://www.wikidata.org/wiki/%20%27Sony%20BMG%27#Michael%20Jackson\n",
      "https://www.wikidata.org/wiki/%20%27Legacy%20Recordings%27#Michael%20Jackson\n",
      "https://www.wikidata.org/wiki/%20%27Steeltown%20Records%27#Michael%20Jackson\n",
      "https://www.wikidata.org/wiki/%27Universal%20Records%27#Elton%20John\n",
      "https://www.wikidata.org/wiki/%20%27Island%20Records%27#Elton%20John\n",
      "https://www.wikidata.org/wiki/%20%27Philips%20Records%27#Elton%20John\n",
      "https://www.wikidata.org/wiki/%20%27DJM%20Records%27#Elton%20John\n",
      "https://www.wikidata.org/wiki/%20%27Uni%27#Elton%20John\n",
      "https://www.wikidata.org/wiki/%20%27Geffen%20Records%27#Elton%20John\n",
      "https://www.wikidata.org/wiki/%20%27Paramount%20Records%27#Elton%20John\n",
      "https://www.wikidata.org/wiki/%20%27Mercury%20Records%27#Elton%20John\n",
      "https://www.wikidata.org/wiki/%20%27MCA%20Records%27#Elton%20John\n",
      "https://www.wikidata.org/wiki/%20%27Def%20Jam%20Recordings%27#Elton%20John\n",
      "https://www.wikidata.org/wiki/%20%27Congress%27#Elton%20John\n",
      "https://www.wikidata.org/wiki/%20%27The%20Rocket%20Record%20Company%27#Elton%20John\n",
      "https://www.wikidata.org/wiki/%20%27IL%27#Elton%20John\n",
      "https://www.wikidata.org/wiki/%20%27Chrysalis%20Records%27#Elton%20John\n",
      "https://www.wikidata.org/wiki/%20%27A%26M%20Records%27#Elton%20John\n",
      "https://www.wikidata.org/wiki/%20%27Regal%20Zonophone%27#Elton%20John\n",
      "https://www.wikidata.org/wiki/%20%27Stateside%20Records%27#Elton%20John\n",
      "https://www.wikidata.org/wiki/%20%27Cube%20Records%27#Elton%20John\n",
      "https://www.wikidata.org/wiki/%27Elektra%27#Queen\n",
      "https://www.wikidata.org/wiki/%20%27Capitol%20Records%27#Queen\n",
      "https://www.wikidata.org/wiki/%20%27EMI%20Records%27#Queen\n",
      "https://www.wikidata.org/wiki/%20%27Hollywood%20Records%27#Queen\n",
      "https://www.wikidata.org/wiki/%20%27Parlophone%27#Queen\n",
      "https://www.wikidata.org/wiki/%20%27Island%20Records%27#Queen\n",
      "https://www.wikidata.org/wiki/%20%27EMI%27#Queen\n",
      "https://www.wikidata.org/wiki/%27Atlantic%20Records%27#Led%20Zeppelin\n",
      "https://www.wikidata.org/wiki/%20%27Decca%27#Led%20Zeppelin\n",
      "https://www.wikidata.org/wiki/%20%27Swan%20Song%20Records%27#Led%20Zeppelin\n",
      "https://www.wikidata.org/wiki/%27Def%20Jam%20Recordings%27#Rihanna\n",
      "https://www.wikidata.org/wiki/%20%27Westbury%20Road%20Entertainment%27#Rihanna\n",
      "https://www.wikidata.org/wiki/%20%27Roc%20Nation%27#Rihanna\n",
      "https://www.wikidata.org/wiki/%27Tower%20Records%27#Pink%20Floyd\n",
      "https://www.wikidata.org/wiki/%20%27Harvest%27#Pink%20Floyd\n",
      "https://www.wikidata.org/wiki/%20%27Capitol%20Records%27#Pink%20Floyd\n",
      "https://www.wikidata.org/wiki/%20%27Columbia%20Records%27#Pink%20Floyd\n",
      "https://www.wikidata.org/wiki/%20%27EMI%27#Pink%20Floyd\n",
      "https://www.wikidata.org/wiki/%20%27Parlophone%27#Pink%20Floyd\n",
      "https://www.wikidata.org/wiki/%20%27Columbia%20Graphophone%20Co.%20Ltd.%27#Pink%20Floyd\n",
      "https://www.wikidata.org/wiki/%20%27Sony%20Music%27#Pink%20Floyd\n",
      "https://www.wikidata.org/wiki/%20%27Warner%20Music%20Group%27#Pink%20Floyd\n",
      "https://www.wikidata.org/wiki/%27Shady%20Records%27#Eminem\n",
      "https://www.wikidata.org/wiki/%20%27Interscope%20Records%27#Eminem\n",
      "https://www.wikidata.org/wiki/%20%27Aftermath%20Entertainment%27#Eminem\n",
      "https://www.wikidata.org/wiki/%20%27WEB%20Entertainment%27#Eminem\n",
      "https://www.wikidata.org/wiki/%27Sony%20Music%27#Mariah%20Carey\n",
      "https://www.wikidata.org/wiki/%20%27Def%20Jam%20Recordings%27#Mariah%20Carey\n",
      "https://www.wikidata.org/wiki/%20%27Universal%20Music%20Group%27#Mariah%20Carey\n",
      "https://www.wikidata.org/wiki/%20%27Columbia%20Records%27#Mariah%20Carey\n",
      "https://www.wikidata.org/wiki/%20%27Epic%20Records%27#Mariah%20Carey\n",
      "https://www.wikidata.org/wiki/%20%27Island%20Records%27#Mariah%20Carey\n",
      "https://www.wikidata.org/wiki/%20%27Virgin%20Music%27#Mariah%20Carey\n",
      "https://www.wikidata.org/wiki/%20%27Legacy%20Recordings%27#Mariah%20Carey\n",
      "https://www.wikidata.org/wiki/%20%27Monarc%20Entertainment%27#Mariah%20Carey\n",
      "https://www.wikidata.org/wiki/%20%27Butterfly%20MC%20Records%27#Mariah%20Carey\n",
      "https://www.wikidata.org/wiki/%27Big%20Machine%20Records%27#Taylor%20Swift\n",
      "https://www.wikidata.org/wiki/%20%27Republic%20Records%27#Taylor%20Swift\n",
      "https://www.wikidata.org/wiki/%27Columbia%20Records%27#Beyonce\n",
      "https://www.wikidata.org/wiki/%20%27Parkwood%20Entertainment%27#Beyonce\n",
      "https://www.wikidata.org/wiki/%20%27Music%20World%20Entertainment%27#Beyonce\n",
      "https://www.wikidata.org/wiki/%27Arista%20Records%27#Whitney%20Houston\n",
      "https://www.wikidata.org/wiki/%20%27RCA%20Records%27#Whitney%20Houston\n",
      "https://www.wikidata.org/wiki/%27Columbia%20Records%27#Celine%20Dion\n",
      "https://www.wikidata.org/wiki/%20%27550%20Music%27#Celine%20Dion\n",
      "https://www.wikidata.org/wiki/%20%27Epic%20Records%27#Celine%20Dion\n",
      "https://www.wikidata.org/wiki/%20%27CBS%20Records%20International%27#Celine%20Dion\n",
      "https://www.wikidata.org/wiki/%20%27Legacy%20Recordings%27#Celine%20Dion\n",
      "https://www.wikidata.org/wiki/%20%27Sony%20Music%20Canada%27#Celine%20Dion\n",
      "https://www.wikidata.org/wiki/%20%27Sony%20BMG%20Music%20Entertainment%27#Celine%20Dion\n",
      "https://www.wikidata.org/wiki/%27Polydor%20Records%27#The%20Rolling%20Stones\n",
      "https://www.wikidata.org/wiki/%20%27Columbia%20Records%27#The%20Rolling%20Stones\n",
      "https://www.wikidata.org/wiki/%20%27Atlantic%20Records%27#The%20Rolling%20Stones\n",
      "https://www.wikidata.org/wiki/%20%27Virgin%20Music%27#The%20Rolling%20Stones\n",
      "https://www.wikidata.org/wiki/%20%27Warner%20Music%20Group%27#The%20Rolling%20Stones\n",
      "https://www.wikidata.org/wiki/%20%27ABKCO%20Records%27#The%20Rolling%20Stones\n",
      "https://www.wikidata.org/wiki/%20%27Rolling%20Stones%20Records%27#The%20Rolling%20Stones\n",
      "https://www.wikidata.org/wiki/%20%27Decca%27#The%20Rolling%20Stones\n",
      "https://www.wikidata.org/wiki/%20%27Interscope%20Records%27#The%20Rolling%20Stones\n",
      "https://www.wikidata.org/wiki/%20%27London%27#The%20Rolling%20Stones\n",
      "https://www.wikidata.org/wiki/%27GOOD%20Music%27#Kanye%20West\n",
      "https://www.wikidata.org/wiki/%20%27Roc-A-Fella%20Records%27#Kanye%20West\n",
      "https://www.wikidata.org/wiki/%20%27Def%20Jam%20Recordings%27#Kanye%20West\n",
      "https://www.wikidata.org/wiki/%27Columbia%20Records%27#Billy%20Joel\n",
      "https://www.wikidata.org/wiki/%20%27Philips%20Records%27#Billy%20Joel\n",
      "https://www.wikidata.org/wiki/%20%27Sony%20Music%27#Billy%20Joel\n",
      "https://www.wikidata.org/wiki/%20%27Sony%20Classical%27#Billy%20Joel\n",
      "https://www.wikidata.org/wiki/%27Island%20Records%27#Justin%20Bieber\n",
      "https://www.wikidata.org/wiki/%20%27RBMG%20Records%27#Justin%20Bieber\n",
      "https://www.wikidata.org/wiki/%20%27School%20Boy%20Records%27#Justin%20Bieber\n",
      "https://www.wikidata.org/wiki/%20%27Def%20Jam%20Recordings%27#Justin%20Bieber\n",
      "https://www.wikidata.org/wiki/%27Asylum%20Records%27#Ed%20Sheeran\n",
      "https://www.wikidata.org/wiki/%20%27Atlantic%20Records%27#Ed%20Sheeran\n",
      "https://www.wikidata.org/wiki/%20%27Elektra%27#Ed%20Sheeran\n",
      "https://www.wikidata.org/wiki/%27Atlantic%20Records%27#Bruno%20Mars\n",
      "https://www.wikidata.org/wiki/%20%27Motown%27#Bruno%20Mars\n",
      "https://www.wikidata.org/wiki/%20%27Universal%20Motown%20Records%27#Bruno%20Mars\n",
      "https://www.wikidata.org/wiki/%20%27Elektra%27#Bruno%20Mars\n",
      "https://www.wikidata.org/wiki/%27Columbia%20Records%27#Bruce%20Springsteen\n",
      "https://www.wikidata.org/wiki/%27Island%20Records%27#U2\n",
      "https://www.wikidata.org/wiki/%20%27Interscope%20Records%27#U2\n",
      "https://www.wikidata.org/wiki/%20%27Columbia%20Records%27#U2\n",
      "https://www.wikidata.org/wiki/%20%27Mercury%20Records%27#U2\n",
      "https://www.wikidata.org/wiki/%27Columbia%20Records%27#Aerosmith\n",
      "https://www.wikidata.org/wiki/%20%27Geffen%20Records%27#Aerosmith\n",
      "https://www.wikidata.org/wiki/%20%27Interscope%20Records%27#Aerosmith\n",
      "https://www.wikidata.org/wiki/%20%27Epic%20Records%27#Aerosmith\n",
      "https://www.wikidata.org/wiki/%20%27Universal%20Music%20Group%27#Aerosmith\n",
      "https://www.wikidata.org/wiki/%20%27Hollywood%20Records%27#Aerosmith\n",
      "https://www.wikidata.org/wiki/%20%27Sony%20Music%27#Aerosmith\n",
      "https://www.wikidata.org/wiki/%20%27Island%20Records%27#Aerosmith\n",
      "https://www.wikidata.org/wiki/%27Virgin%20Music%27#Phil%20Collins\n",
      "https://www.wikidata.org/wiki/%20%27Atlantic%20Records%27#Phil%20Collins\n",
      "https://www.wikidata.org/wiki/%20%27Warner%20Records%20Inc.%27#Phil%20Collins\n",
      "https://www.wikidata.org/wiki/%20%27Walt%20Disney%20Records%27#Phil%20Collins\n",
      "https://www.wikidata.org/wiki/%20%27Rhino%20Entertainment%20Company%27#Phil%20Collins\n",
      "https://www.wikidata.org/wiki/%27Columbia%20Records%27#Barbra%20Streisand\n",
      "https://www.wikidata.org/wiki/%20%27Decca%27#Barbra%20Streisand\n",
      "https://www.wikidata.org/wiki/%20%27London%27#Barbra%20Streisand\n",
      "https://www.wikidata.org/wiki/%27Polydor%20Records%27#ABBA\n",
      "https://www.wikidata.org/wiki/%20%27Polar%27#ABBA\n",
      "https://www.wikidata.org/wiki/%20%27Atlantic%20Records%27#ABBA\n",
      "https://www.wikidata.org/wiki/%20%27Epic%20Records%27#ABBA\n",
      "https://www.wikidata.org/wiki/%20%27Universal%20Music%20Group%27#ABBA\n",
      "https://www.wikidata.org/wiki/%20%27RCA%20Records%27#ABBA\n",
      "https://www.wikidata.org/wiki/%20%27Polar%20Music%20International%20AB%27#ABBA\n",
      "https://www.wikidata.org/wiki/%20%27Vogue%27#ABBA\n",
      "https://www.wikidata.org/wiki/%20%27Tonpress%27#ABBA\n",
      "https://www.wikidata.org/wiki/%20%27RSO%20Records%27#ABBA\n",
      "https://www.wikidata.org/wiki/%20%27Melodiya%27#ABBA\n",
      "https://www.wikidata.org/wiki/%20%27CBS%27#ABBA\n",
      "https://www.wikidata.org/wiki/%20%27Dynamic%20Sounds%20Studio%27#ABBA\n",
      "https://www.wikidata.org/wiki/%20%27Carnaby%20Music%27#ABBA\n",
      "https://www.wikidata.org/wiki/%20%27Amiga%27#ABBA\n",
      "https://www.wikidata.org/wiki/%20%27Unidisc%20Music%27#ABBA\n",
      "https://www.wikidata.org/wiki/%20%27WEA%27#ABBA\n",
      "https://www.wikidata.org/wiki/%20%27PolyGram%27#ABBA\n",
      "https://www.wikidata.org/wiki/%20%27PolyGram%20Polska%27#ABBA\n",
      "https://www.wikidata.org/wiki/%20%27Philips%20Records%27#ABBA\n",
      "https://www.wikidata.org/wiki/%20%27Karussell%27#ABBA\n",
      "https://www.wikidata.org/wiki/%20%27Opus%27#ABBA\n",
      "https://www.wikidata.org/wiki/%20%27Dig-It%27#ABBA\n",
      "https://www.wikidata.org/wiki/%20%27Som%20Livre%27#ABBA\n",
      "https://www.wikidata.org/wiki/%20%27K-tel%27#ABBA\n",
      "https://www.wikidata.org/wiki/%20%27EMI%27#ABBA\n",
      "https://www.wikidata.org/wiki/%20%27Castle%20Communications%27#ABBA\n",
      "https://www.wikidata.org/wiki/%20%27Hallmark%20Records%27#ABBA\n",
      "https://www.wikidata.org/wiki/%20%27Polskie%20Nagrania%20Muza%27#ABBA\n",
      "https://www.wikidata.org/wiki/%20%27Team%20Mariann%20Compilation%27#ABBA\n",
      "https://www.wikidata.org/wiki/%20%27Pickwick%27#ABBA\n",
      "https://www.wikidata.org/wiki/%20%27Telstar%27#ABBA\n",
      "https://www.wikidata.org/wiki/%20%27Dino%20Entertainment%27#ABBA\n",
      "https://www.wikidata.org/wiki/%20%27Tower%20Records%27#ABBA\n",
      "https://www.wikidata.org/wiki/%20%27Gallo%20Record%20Company%27#ABBA\n",
      "https://www.wikidata.org/wiki/%20%27PGP-RTB%27#ABBA\n",
      "https://www.wikidata.org/wiki/%20%27not%20on%20label%27#ABBA\n",
      "https://www.wikidata.org/wiki/%20%27Vene%20Music%27#ABBA\n",
      "https://www.wikidata.org/wiki/%20%27Universal%20Music%20Enterprises%27#ABBA\n",
      "https://www.wikidata.org/wiki/%20%27World%20Music%20Network%27#ABBA\n",
      "https://www.wikidata.org/wiki/%20%27BBC%20Transcription%20Services%27#ABBA\n",
      "https://www.wikidata.org/wiki/%20%27CAR%20Juke%20Box%27#ABBA\n",
      "https://www.wikidata.org/wiki/%20%27RCA%20Victor%27#ABBA\n",
      "https://www.wikidata.org/wiki/%20%27Playboy%20Records%27#ABBA\n",
      "https://www.wikidata.org/wiki/%20%27United%20States%20Department%20of%20Defense%27#ABBA\n",
      "https://www.wikidata.org/wiki/%20%27Balkanton%27#ABBA\n",
      "https://www.wikidata.org/wiki/%20%27Universal%20Music%20Denmark%27#ABBA\n",
      "https://www.wikidata.org/wiki/%20%27Disques%20Vogue%27#ABBA\n",
      "https://www.wikidata.org/wiki/%20%27Aftonbladet%27#ABBA\n",
      "https://www.wikidata.org/wiki/%27Reprise%20Records%27#Frank%20Sinatra\n",
      "https://www.wikidata.org/wiki/%20%27Columbia%20Records%27#Frank%20Sinatra\n",
      "https://www.wikidata.org/wiki/%20%27Capitol%20Records%27#Frank%20Sinatra\n",
      "https://www.wikidata.org/wiki/%20%27Warner%20Bros.%20Records%27#Frank%20Sinatra\n",
      "https://www.wikidata.org/wiki/%20%27RCA%20Records%27#Frank%20Sinatra\n",
      "https://www.wikidata.org/wiki/%20%27Philips%20Records%27#Frank%20Sinatra\n",
      "https://www.wikidata.org/wiki/%27Pamplin%20Music%27#Katy%20Perry\n",
      "https://www.wikidata.org/wiki/%20%27The%20Island%20Def%20Jam%20Music%20Group%27#Katy%20Perry\n",
      "https://www.wikidata.org/wiki/%20%27Columbia%20Records%27#Katy%20Perry\n",
      "https://www.wikidata.org/wiki/%20%27Capitol%20Records%27#Katy%20Perry\n",
      "https://www.wikidata.org/wiki/%20%27Island%20Records%27#Katy%20Perry\n",
      "https://www.wikidata.org/wiki/%27RCA%20Records%27#Chris%20Brown\n",
      "https://www.wikidata.org/wiki/%20%27Jive%20Records%27#Chris%20Brown\n",
      "https://www.wikidata.org/wiki/%27Roc-A-Fella%20Records%27#Jay%20Z\n",
      "https://www.wikidata.org/wiki/%20%27Roc%20Nation%27#Jay%20Z\n",
      "https://www.wikidata.org/wiki/%20%27Atlantic%20Records%27#Jay%20Z\n",
      "https://www.wikidata.org/wiki/%20%27Northwestside%20Records%27#Jay%20Z\n",
      "https://www.wikidata.org/wiki/%27Warner%20Bros.%20Records%27#Metallica\n",
      "https://www.wikidata.org/wiki/%20%27Megaforce%20Records%27#Metallica\n",
      "https://www.wikidata.org/wiki/%20%27Elektra%27#Metallica\n",
      "https://www.wikidata.org/wiki/%20%27Vertigo%27#Metallica\n",
      "https://www.wikidata.org/wiki/%20%27Mercury%20Records%27#Metallica\n",
      "https://www.wikidata.org/wiki/%20%27Universal%20Music%20Group%27#Metallica\n",
      "https://www.wikidata.org/wiki/%20%27Virgin%20EMI%20Records%27#Metallica\n",
      "https://www.wikidata.org/wiki/%27Cherrytree%20Records%27#Lady%20Gaga\n",
      "https://www.wikidata.org/wiki/%20%27Def%20Jam%20Recordings%27#Lady%20Gaga\n",
      "https://www.wikidata.org/wiki/%20%27Interscope%20Records%27#Lady%20Gaga\n",
      "https://www.wikidata.org/wiki/%20%27KonLive%20Distribution%27#Lady%20Gaga\n",
      "https://www.wikidata.org/wiki/%20%27Universal%20Music%20Group%27#Lady%20Gaga\n",
      "https://www.wikidata.org/wiki/%27Young%20Money%20Entertainment%27#Lil%20Wayne\n",
      "https://www.wikidata.org/wiki/%20%27Republic%20Records%27#Lil%20Wayne\n",
      "https://www.wikidata.org/wiki/%20%27Universal%20Music%20Group%27#Lil%20Wayne\n",
      "https://www.wikidata.org/wiki/%20%27Cash%20Money%20Records%27#Lil%20Wayne\n",
      "https://www.wikidata.org/wiki/%27A%26M%20Records%27#Maroon%205\n",
      "https://www.wikidata.org/wiki/%20%27Reprise%20Records%27#Maroon%205\n",
      "https://www.wikidata.org/wiki/%27XL%20Recordings%27#Adele\n",
      "https://www.wikidata.org/wiki/%20%27Columbia%20Records%27#Adele\n",
      "https://www.wikidata.org/wiki/%20%27Sony%20Music%27#Adele\n",
      "https://www.wikidata.org/wiki/%27EMI%27#Red%20Hot%20Chili%20Peppers\n",
      "https://www.wikidata.org/wiki/%20%27Warner%20Music%20Group%27#Red%20Hot%20Chili%20Peppers\n",
      "https://www.wikidata.org/wiki/%20%27EMI%20Records%27#Red%20Hot%20Chili%20Peppers\n",
      "https://www.wikidata.org/wiki/%20%27Warner%20Bros.%20Records%27#Red%20Hot%20Chili%20Peppers\n",
      "https://www.wikidata.org/wiki/%20%27Capitol%20Records%27#Red%20Hot%20Chili%20Peppers\n",
      "https://www.wikidata.org/wiki/%27Sanctuary%20Records%27#Fleetwood%20Mac\n",
      "https://www.wikidata.org/wiki/%20%27Sire%27#Fleetwood%20Mac\n",
      "https://www.wikidata.org/wiki/%20%27Columbia%20Records%27#Fleetwood%20Mac\n",
      "https://www.wikidata.org/wiki/%20%27Epic%20Records%27#Fleetwood%20Mac\n",
      "https://www.wikidata.org/wiki/%20%27CBS%20Records%27#Fleetwood%20Mac\n",
      "https://www.wikidata.org/wiki/%20%27Reprise%20Records%27#Fleetwood%20Mac\n",
      "https://www.wikidata.org/wiki/%20%27Warner%20Bros.%20Records%27#Fleetwood%20Mac\n",
      "https://www.wikidata.org/wiki/%20%27Blue%20Horizon%27#Fleetwood%20Mac\n",
      "https://www.wikidata.org/wiki/%27Island%20Records%27#Bon%20Jovi\n",
      "https://www.wikidata.org/wiki/%20%27Mercury%20Records%27#Bon%20Jovi\n",
      "https://www.wikidata.org/wiki/%27Warner%20Bros.%20Records%27#Rod%20Stewart\n",
      "https://www.wikidata.org/wiki/%20%27Atlantic%20Records%27#Rod%20Stewart\n",
      "https://www.wikidata.org/wiki/%20%27Capitol%20Records%27#Rod%20Stewart\n",
      "https://www.wikidata.org/wiki/%20%27Mercury%20Records%27#Rod%20Stewart\n",
      "https://www.wikidata.org/wiki/%20%27Warner%20Records%27#Rod%20Stewart\n",
      "https://www.wikidata.org/wiki/%27Leedon%27#Bee%20Gees\n",
      "https://www.wikidata.org/wiki/%20%27Spin%27#Bee%20Gees\n",
      "https://www.wikidata.org/wiki/%20%27Polydor%20Records%27#Bee%20Gees\n",
      "https://www.wikidata.org/wiki/%20%27RSO%20Records%27#Bee%20Gees\n",
      "https://www.wikidata.org/wiki/%20%27Brunswick%20Records%27#Bee%20Gees\n",
      "https://www.wikidata.org/wiki/%20%27Mercury%20Records%27#Bee%20Gees\n",
      "https://www.wikidata.org/wiki/%20%27Philips%20Records%27#Bee%20Gees\n",
      "https://www.wikidata.org/wiki/%20%27Fontana%20Records%27#Bee%20Gees\n",
      "https://www.wikidata.org/wiki/%27Cash%20Money%20Records%27#Nicki%20Minaj\n",
      "https://www.wikidata.org/wiki/%20%27Republic%20Records%27#Nicki%20Minaj\n",
      "https://www.wikidata.org/wiki/%20%27Young%20Money%20Entertainment%27#Nicki%20Minaj\n",
      "https://www.wikidata.org/wiki/%27Capitol%20Records%27#Coldplay\n",
      "https://www.wikidata.org/wiki/%20%27Atlantic%20Records%27#Coldplay\n",
      "https://www.wikidata.org/wiki/%20%27Parlophone%27#Coldplay\n",
      "https://www.wikidata.org/wiki/%20%27Fierce%20Panda%20Records%27#Coldplay\n",
      "https://www.wikidata.org/wiki/%27Warner%20Bros.%20Records%27#Linkin%20Park\n",
      "https://www.wikidata.org/wiki/%20%27Machine%20Shop%20Records%27#Linkin%20Park\n",
      "https://www.wikidata.org/wiki/%27RCA%20Records%27#P%21nk\n",
      "https://www.wikidata.org/wiki/%20%27Legacy%20Recordings%27#P%21nk\n",
      "https://www.wikidata.org/wiki/%20%27Jive%20Records%27#P%21nk\n",
      "https://www.wikidata.org/wiki/%20%27Arista%20Records%27#P%21nk\n",
      "https://www.wikidata.org/wiki/%20%27LaFace%20Records%27#P%21nk\n",
      "https://www.wikidata.org/wiki/%27RCA%20Records%27#Britney%20Spears\n",
      "https://www.wikidata.org/wiki/%20%27Jive%20Records%27#Britney%20Spears\n",
      "https://www.wikidata.org/wiki/%20%27Sony%20Music%27#Britney%20Spears\n",
      "https://www.wikidata.org/wiki/%27Polydor%20Records%27#Shania%20Twain\n",
      "https://www.wikidata.org/wiki/%20%27Universal%20Music%20Group%27#Shania%20Twain\n",
      "https://www.wikidata.org/wiki/%20%27Universal%20Music%20Group%20Nashville%27#Shania%20Twain\n",
      "https://www.wikidata.org/wiki/%27Geffen%20Records%27#Guns%20N%27%20Roses\n",
      "https://www.wikidata.org/wiki/%20%27Uzi%20Suicide%27#Guns%20N%27%20Roses\n",
      "https://www.wikidata.org/wiki/%20%27Universal%20Music%20Group%27#Guns%20N%27%20Roses\n",
      "https://www.wikidata.org/wiki/%27Jive%20Records%27#Backstreet%20Boys\n",
      "https://www.wikidata.org/wiki/%20%27Sony%20BMG%20Music%20Entertainment%27#Backstreet%20Boys\n",
      "https://www.wikidata.org/wiki/%20%27RCA%27#Backstreet%20Boys\n",
      "https://www.wikidata.org/wiki/%27Warner%20Bros.%20Records%27#Eric%20Clapton\n",
      "https://www.wikidata.org/wiki/%20%27Atco%20Records%27#Eric%20Clapton\n",
      "https://www.wikidata.org/wiki/%20%27Polydor%20Records%27#Eric%20Clapton\n",
      "https://www.wikidata.org/wiki/%27Capitol%20Records%27#Neil%20Diamond\n",
      "https://www.wikidata.org/wiki/%20%27Columbia%20Records%27#Neil%20Diamond\n",
      "https://www.wikidata.org/wiki/%20%27Bang%20Records%27#Neil%20Diamond\n",
      "https://www.wikidata.org/wiki/%27Apple%20Records%27#Paul%20McCartney\n",
      "https://www.wikidata.org/wiki/%20%27Capitol%20Records%27#Paul%20McCartney\n",
      "https://www.wikidata.org/wiki/%20%27Parlophone%27#Paul%20McCartney\n",
      "https://www.wikidata.org/wiki/%20%27Columbia%20Records%27#Paul%20McCartney\n",
      "https://www.wikidata.org/wiki/%20%27Hear%20Music%27#Paul%20McCartney\n",
      "https://www.wikidata.org/wiki/%27Island%20Records%27#Janet%20Jackson\n",
      "https://www.wikidata.org/wiki/%20%27A%26M%20Records%27#Janet%20Jackson\n",
      "https://www.wikidata.org/wiki/%20%27Virgin%20Music%27#Janet%20Jackson\n",
      "https://www.wikidata.org/wiki/%20%27Rhythm%20Nation%27#Janet%20Jackson\n",
      "https://www.wikidata.org/wiki/%20%27Mercury%20Records%27#Janet%20Jackson\n",
      "https://www.wikidata.org/wiki/%27Atlantic%20Records%27#Kenny%20Rogers\n",
      "https://www.wikidata.org/wiki/%20%27Capitol%20Records%27#Kenny%20Rogers\n",
      "https://www.wikidata.org/wiki/%20%27Capitol%20Records%20Nashville%27#Kenny%20Rogers\n",
      "https://www.wikidata.org/wiki/%20%27Curb%20Records%27#Kenny%20Rogers\n",
      "https://www.wikidata.org/wiki/%20%27Giant%20Records%27#Kenny%20Rogers\n",
      "https://www.wikidata.org/wiki/%20%27Mercury%20Records%27#Kenny%20Rogers\n",
      "https://www.wikidata.org/wiki/%20%27RCA%20Records%27#Kenny%20Rogers\n",
      "https://www.wikidata.org/wiki/%20%27Reprise%20Records%27#Kenny%20Rogers\n",
      "https://www.wikidata.org/wiki/%20%27United%20Artists%20Records%27#Kenny%20Rogers\n",
      "https://www.wikidata.org/wiki/%20%27Warner%20Music%20Group%27#Kenny%20Rogers\n",
      "https://www.wikidata.org/wiki/%20%27Warner%20Bros.%20Records%27#Kenny%20Rogers\n",
      "https://www.wikidata.org/wiki/%27Arista%20Records%27#Santana\n",
      "https://www.wikidata.org/wiki/%20%27Columbia%20Records%27#Santana\n",
      "https://www.wikidata.org/wiki/%27Epic%20Records%27#George%20Michael\n",
      "https://www.wikidata.org/wiki/%20%27Virgin%20Music%27#George%20Michael\n",
      "https://www.wikidata.org/wiki/%20%27DreamWorks%20Records%27#George%20Michael\n",
      "https://www.wikidata.org/wiki/%20%27Columbia%20Records%27#George%20Michael\n",
      "https://www.wikidata.org/wiki/%20%27Sony%20Music%27#George%20Michael\n",
      "https://www.wikidata.org/wiki/%20%27Polydor%20Records%27#George%20Michael\n",
      "https://www.wikidata.org/wiki/%20%27Innervision%20Records%27#George%20Michael\n",
      "https://www.wikidata.org/wiki/%27Warner%20Bros.%20Records%27#Dire%20Straits\n",
      "https://www.wikidata.org/wiki/%27Elektra%27#The%20Doors\n",
      "https://www.wikidata.org/wiki/%27Warner%20Bros.%20Records%27#Chicago\n",
      "https://www.wikidata.org/wiki/%20%27Columbia%20Records%27#Chicago\n",
      "https://www.wikidata.org/wiki/%27Columbia%20Records%27#Bob%20Dylan\n",
      "https://www.wikidata.org/wiki/%20%27Asylum%20Records%27#Bob%20Dylan\n",
      "https://www.wikidata.org/wiki/%27A%26M%20Records%27#Carpenters\n",
      "https://www.wikidata.org/wiki/%27Arista%20Records%27#Meat%20Loaf\n",
      "https://www.wikidata.org/wiki/%20%27Cleveland%20International%20Records%27#Meat%20Loaf\n",
      "https://www.wikidata.org/wiki/%20%27Epic%20Records%27#Meat%20Loaf\n",
      "https://www.wikidata.org/wiki/%20%27RCA%27#Meat%20Loaf\n",
      "https://www.wikidata.org/wiki/%20%27MCA%20Inc.%27#Meat%20Loaf\n",
      "https://www.wikidata.org/wiki/%20%27Polydor%20Records%27#Meat%20Loaf\n",
      "https://www.wikidata.org/wiki/%20%27Sanctuary%20Records%27#Meat%20Loaf\n",
      "https://www.wikidata.org/wiki/%20%27Mercury%20Records%27#Meat%20Loaf\n",
      "https://www.wikidata.org/wiki/%20%27Virgin%20Music%27#Meat%20Loaf\n",
      "https://www.wikidata.org/wiki/%20%27Motown%27#Meat%20Loaf\n",
      "https://www.wikidata.org/wiki/%27earMUSIC%27#Def%20Leppard\n",
      "https://www.wikidata.org/wiki/%20%27Island%20Records%27#Def%20Leppard\n",
      "https://www.wikidata.org/wiki/%20%27Mercury%20Records%27#Def%20Leppard\n",
      "https://www.wikidata.org/wiki/%27Iso%20%28record%20label%29%27#David%20Bowie\n",
      "https://www.wikidata.org/wiki/%20%27Columbia%20Records%27#David%20Bowie\n",
      "https://www.wikidata.org/wiki/%20%27Decca%27#David%20Bowie\n",
      "https://www.wikidata.org/wiki/%20%27Deram%27#David%20Bowie\n",
      "https://www.wikidata.org/wiki/%20%27EMI%27#David%20Bowie\n",
      "https://www.wikidata.org/wiki/%20%27RCA%27#David%20Bowie\n",
      "https://www.wikidata.org/wiki/%20%27Virgin%20Music%27#David%20Bowie\n",
      "https://www.wikidata.org/wiki/%20%27RCA%20Records%27#David%20Bowie\n",
      "https://www.wikidata.org/wiki/%20%27Mercury%20Records%27#David%20Bowie\n",
      "https://www.wikidata.org/wiki/%20%27Bertelsmann%20Music%20Group%27#David%20Bowie\n",
      "https://www.wikidata.org/wiki/%20%27Parlophone%27#David%20Bowie\n",
      "https://www.wikidata.org/wiki/%20%27Rykodisc%27#David%20Bowie\n",
      "https://www.wikidata.org/wiki/%20%27Pye%20Records%27#David%20Bowie\n",
      "https://www.wikidata.org/wiki/%20%27Vocalion%27#David%20Bowie\n",
      "https://www.wikidata.org/wiki/%27Motown%27#Stevie%20Wonder\n",
      "https://www.wikidata.org/wiki/%27Warner%20Bros.%20Records%27#James%20Taylor\n",
      "https://www.wikidata.org/wiki/%20%27Apple%20Records%27#James%20Taylor\n",
      "https://www.wikidata.org/wiki/%20%27Capitol%20Records%27#James%20Taylor\n",
      "https://www.wikidata.org/wiki/%20%27Columbia%20Records%27#James%20Taylor\n",
      "https://www.wikidata.org/wiki/%20%27EMI%27#James%20Taylor\n",
      "https://www.wikidata.org/wiki/%20%27Sony%20Music%27#James%20Taylor\n",
      "https://www.wikidata.org/wiki/%27Capitol%20Records%27#Tina%20Turner\n",
      "https://www.wikidata.org/wiki/%20%27EMI%27#Tina%20Turner\n",
      "https://www.wikidata.org/wiki/%20%27United%20Artists%20Records%27#Tina%20Turner\n",
      "https://www.wikidata.org/wiki/%20%27Parlophone%27#Tina%20Turner\n",
      "https://www.wikidata.org/wiki/%20%27Virgin%27#Tina%20Turner\n",
      "https://www.wikidata.org/wiki/%27Uni%27#Olivia%20Newton-John\n",
      "https://www.wikidata.org/wiki/%20%27EMI%27#Olivia%20Newton-John\n",
      "https://www.wikidata.org/wiki/%20%27MCA%20Records%27#Olivia%20Newton-John\n",
      "https://www.wikidata.org/wiki/%27Capitol%20Records%27#Linda%20Ronstadt\n",
      "https://www.wikidata.org/wiki/%20%27Asylum%20Records%27#Linda%20Ronstadt\n",
      "https://www.wikidata.org/wiki/%27Warner%20Bros.%20Records%27#The%20Beach%20Boys\n",
      "https://www.wikidata.org/wiki/%20%27Capitol%20Records%27#The%20Beach%20Boys\n",
      "https://www.wikidata.org/wiki/%20%27Brother%20Records%27#The%20Beach%20Boys\n",
      "https://www.wikidata.org/wiki/%20%27Candix%20Records%27#The%20Beach%20Boys\n",
      "https://www.wikidata.org/wiki/%27Geffen%20Records%27#Donna%20Summer\n",
      "https://www.wikidata.org/wiki/%20%27Atlantic%20Records%27#Donna%20Summer\n",
      "https://www.wikidata.org/wiki/%20%27Mercury%20Records%27#Donna%20Summer\n",
      "https://www.wikidata.org/wiki/%20%27Epic%20Records%27#Donna%20Summer\n",
      "https://www.wikidata.org/wiki/%27Arista%20Records%27#Alicia%20Keys\n",
      "https://www.wikidata.org/wiki/%20%27Columbia%20Records%27#Alicia%20Keys\n",
      "https://www.wikidata.org/wiki/%20%27J%20Records%27#Alicia%20Keys\n",
      "https://www.wikidata.org/wiki/%20%27RCA%20Records%27#Alicia%20Keys\n",
      "https://www.wikidata.org/wiki/%27RCA%20Records%27#Christina%20Aguilera\n",
      "https://www.wikidata.org/wiki/%27Motown%27#Lionel%20Richie\n",
      "https://www.wikidata.org/wiki/%20%27Island%20Records%27#Lionel%20Richie\n",
      "https://www.wikidata.org/wiki/%27Sun%20Records%27#Johnny%20Cash\n",
      "https://www.wikidata.org/wiki/%20%27Charly%20Records%27#Johnny%20Cash\n",
      "https://www.wikidata.org/wiki/%20%27Columbia%20Records%27#Johnny%20Cash\n",
      "https://www.wikidata.org/wiki/%20%27American%20Recordings%27#Johnny%20Cash\n",
      "https://www.wikidata.org/wiki/%20%27House%20of%20Cash%27#Johnny%20Cash\n",
      "https://www.wikidata.org/wiki/%27RCA%20Records%27#Justin%20Timberlake\n",
      "https://www.wikidata.org/wiki/%20%27Jive%20Records%27#Justin%20Timberlake\n",
      "https://www.wikidata.org/wiki/%20%27Zomba%20Group%20of%20Companies%27#Justin%20Timberlake\n",
      "https://www.wikidata.org/wiki/%20%27Tennman%20Records%27#Justin%20Timberlake\n",
      "https://www.wikidata.org/wiki/%27Republic%20Records%27#Ariana%20Grande\n",
      "https://www.wikidata.org/wiki/%20%27Universal%20Music%20Group%27#Ariana%20Grande\n",
      "https://www.wikidata.org/wiki/%27I.R.S.%20Records%27#R.E.M.\n",
      "https://www.wikidata.org/wiki/%20%27Warner%20Bros.%20Records%27#R.E.M.\n",
      "https://www.wikidata.org/wiki/%20%27Hib-Tone%27#R.E.M.\n",
      "https://www.wikidata.org/wiki/%20%27Concord%20Bicycle%20Music%27#R.E.M.\n",
      "https://www.wikidata.org/wiki/%20%27New%20West%20Records%27#R.E.M.\n",
      "https://www.wikidata.org/wiki/%20%27Warner%20Records%27#R.E.M.\n",
      "https://www.wikidata.org/wiki/%27Republic%20Records%27#Post%20Malone\n",
      "https://www.wikidata.org/wiki/%20%27Mercury%20Records%27#Post%20Malone\n",
      "https://www.wikidata.org/wiki/%27Atlantic%20Records%27#Flo%20Rida\n",
      "https://www.wikidata.org/wiki/%20%27Poe%20Boy%20Entertainment%27#Flo%20Rida\n",
      "https://www.wikidata.org/wiki/%27LaFace%20Records%27#Usher\n",
      "https://www.wikidata.org/wiki/%20%27Arista%20Records%27#Usher\n",
      "https://www.wikidata.org/wiki/%20%27RCA%27#Usher\n",
      "https://www.wikidata.org/wiki/%27Sony%20Music%27#Shakira\n",
      "https://www.wikidata.org/wiki/%20%27Epic%20Records%27#Shakira\n",
      "https://www.wikidata.org/wiki/%20%27Sony%20BMG%27#Shakira\n",
      "https://www.wikidata.org/wiki/%20%27Columbia%20Records%27#Shakira\n",
      "https://www.wikidata.org/wiki/%20%27RCA%20Records%27#Shakira\n",
      "https://www.wikidata.org/wiki/%20%27Live%20Nation%20Entertainment%27#Shakira\n",
      "https://www.wikidata.org/wiki/%27Big%20Machine%20Records%27#Tim%20McGraw\n",
      "https://www.wikidata.org/wiki/%20%27Curb%20Records%27#Tim%20McGraw\n",
      "https://www.wikidata.org/wiki/%27Interscope%20Records%27#The%20Black%20Eyed%20Peas\n",
      "https://www.wikidata.org/wiki/%20%27A%26M%20Records%27#The%20Black%20Eyed%20Peas\n",
      "https://www.wikidata.org/wiki/%20%27Epic%20Records%27#The%20Black%20Eyed%20Peas\n",
      "https://www.wikidata.org/wiki/%20%27will.i.am%20Music%20Group%27#The%20Black%20Eyed%20Peas\n",
      "https://www.wikidata.org/wiki/%27Warner%20Bros.%20Records%27#Van%20Halen\n",
      "https://www.wikidata.org/wiki/%27Shelter%20Records%27#Tom%20Petty\n",
      "https://www.wikidata.org/wiki/%27Republic%20Records%27#The%20Weeknd\n",
      "https://www.wikidata.org/wiki/%20%27XO%27#The%20Weeknd\n",
      "https://www.wikidata.org/wiki/%27Interscope%20Records%27#Imagine%20Dragons\n",
      "https://www.wikidata.org/wiki/%20%27KIDinaKORNER%27#Imagine%20Dragons\n",
      "https://www.wikidata.org/wiki/%27Death%20Row%20Records%27#2Pac\n",
      "https://www.wikidata.org/wiki/%20%27Interscope%20Records%27#2Pac\n",
      "https://www.wikidata.org/wiki/%20%27Amaru%20Entertainment%27#2Pac\n",
      "https://www.wikidata.org/wiki/%27Jive%20Records%27#R.%20Kelly\n",
      "https://www.wikidata.org/wiki/%20%27Rockland%20Records%27#R.%20Kelly\n",
      "https://www.wikidata.org/wiki/%20%27RCA%20Records%27#R.%20Kelly\n",
      "https://www.wikidata.org/wiki/%27Columbia%20Records%27#Nirvana\n",
      "https://www.wikidata.org/wiki/%20%27Warner%20Bros.%27#Nirvana\n",
      "https://www.wikidata.org/wiki/%20%27Sub%20Pop%27#Nirvana\n",
      "https://www.wikidata.org/wiki/%20%27Warner%20Music%20Group%27#Nirvana\n",
      "https://www.wikidata.org/wiki/%27Capitol%20Records%27#Bob%20Seger\n",
      "https://www.wikidata.org/wiki/%20%27Cameo-Parkway%20Records%27#Bob%20Seger\n",
      "https://www.wikidata.org/wiki/%27Arista%20Records%27#Kenny%20G\n",
      "https://www.wikidata.org/wiki/%20%27Concord%20Records%27#Kenny%20G\n",
      "https://www.wikidata.org/wiki/%20%27Bertelsmann%20Music%20Group%27#Kenny%20G\n",
      "https://www.wikidata.org/wiki/%27Epitaph%20Records%27#Green%20Day\n",
      "https://www.wikidata.org/wiki/%20%27Reprise%20Records%27#Green%20Day\n",
      "https://www.wikidata.org/wiki/%27Warner%20Music%20Group%27#Enya\n",
      "https://www.wikidata.org/wiki/%27A%26M%20Records%27#Bryan%20Adams\n",
      "https://www.wikidata.org/wiki/%20%27Decca%27#Bryan%20Adams\n",
      "https://www.wikidata.org/wiki/%20%27Polydor%20Records%27#Bryan%20Adams\n",
      "https://www.wikidata.org/wiki/%20%27Verve%20Records%27#Bryan%20Adams\n",
      "https://www.wikidata.org/wiki/%20%27Universal%20Music%20Group%27#Bryan%20Adams\n",
      "https://www.wikidata.org/wiki/%27A%26M%20Records%27#The%20Police\n",
      "https://www.wikidata.org/wiki/%20%27Illegal%20Records%27#The%20Police\n",
      "https://www.wikidata.org/wiki/%27Verve%20Forecast%27#Gloria%20Estefan\n",
      "https://www.wikidata.org/wiki/%20%27Sony%20Masterworks%27#Gloria%20Estefan\n",
      "https://www.wikidata.org/wiki/%20%27Burgundy%20Records%27#Gloria%20Estefan\n",
      "https://www.wikidata.org/wiki/%20%27Sony%20Music%27#Gloria%20Estefan\n",
      "https://www.wikidata.org/wiki/%20%27Epic%20Records%27#Gloria%20Estefan\n",
      "https://www.wikidata.org/wiki/%27Arista%20Records%27#Barry%20Manilow\n",
      "https://www.wikidata.org/wiki/%20%27Bell%20Records%27#Barry%20Manilow\n",
      "https://www.wikidata.org/wiki/%20%27Concord%20Records%27#Barry%20Manilow\n",
      "https://www.wikidata.org/wiki/%27Arista%20Records%27#Aretha%20Franklin\n",
      "https://www.wikidata.org/wiki/%20%27Atlantic%20Records%27#Aretha%20Franklin\n",
      "https://www.wikidata.org/wiki/%20%27Battle%20Records%27#Aretha%20Franklin\n",
      "https://www.wikidata.org/wiki/%20%27Columbia%20Records%27#Aretha%20Franklin\n",
      "https://www.wikidata.org/wiki/%20%27RCA%27#Aretha%20Franklin\n",
      "https://www.wikidata.org/wiki/%20%27Warner%20Music%20Group%27#Aretha%20Franklin\n",
      "https://www.wikidata.org/wiki/%20%27Checker%27#Aretha%20Franklin\n"
     ]
    }
   ],
   "source": [
    "# add label as an object, for future extensions\n",
    "label_occurrence = []\n",
    "\n",
    "\n",
    "for i in range(len(relatives_label_df)):\n",
    "    # Split the label on commas to work with each label separately\n",
    "    if  relatives_label_df['RecordLabel'][i] == '[]': continue\n",
    "    \n",
    "    \n",
    "    labels = relatives_label_df['RecordLabel'][i].split(',')\n",
    "    artist = relatives_label_df['Artist'][i]\n",
    "    \n",
    "    \n",
    "    labels[0] = labels[0][1:]\n",
    "    labels[-1] = labels[-1][:-1]\n",
    "    \n",
    "    for label in labels:\n",
    "        label_uri = URIRef(WD + quote(label) + '#' + quote(artist))   \n",
    "        \n",
    "        # Check if the label is already in the list\n",
    "        if label not in label_occurrence:\n",
    "           label_occurrence.append(label)\n",
    "        \n",
    "    \n",
    "           g.add((label_uri, RDF.type, classes_dict_uri['Label']))\n",
    "           g.add((label_uri, RDFS.label, Literal(label, lang='en'))) \n",
    "           \n",
    "        artist_uri = URIRef(WD + quote(artist))\n",
    "        print(label_uri)\n",
    "        g.add((artist_uri, properties_dict_uri['record label'], label_uri))\n",
    "    "
   ],
   "metadata": {
    "collapsed": false,
    "ExecuteTime": {
     "end_time": "2024-03-24T11:54:17.060348400Z",
     "start_time": "2024-03-24T11:54:17.013029500Z"
    }
   },
   "id": "b247e344a36a4d6c"
  },
  {
   "cell_type": "code",
   "execution_count": 45,
   "outputs": [
    {
     "data": {
      "text/plain": "[\"'Apple Records'\",\n \" 'Capitol Records'\",\n \" 'Parlophone'\",\n \" 'United Artists Records'\",\n \" 'Vee-Jay Records'\",\n \" 'Polydor Records'\",\n \" 'Parlophon'\",\n \" 'I Dischi dello Zodiaco'\",\n \"'Sun Records'\",\n \" 'RCA Victor'\",\n \"'Epic Records'\",\n \" 'Sony Music'\",\n \" 'Motown'\",\n \" 'Universal Music Group'\",\n \" 'Sony BMG'\",\n \" 'Legacy Recordings'\",\n \" 'Steeltown Records'\",\n \"'Universal Records'\",\n \" 'Island Records'\",\n \" 'Philips Records'\",\n \" 'DJM Records'\",\n \" 'Uni'\",\n \" 'Geffen Records'\",\n \" 'Paramount Records'\",\n \" 'Mercury Records'\",\n \" 'MCA Records'\",\n \" 'Def Jam Recordings'\",\n \" 'Congress'\",\n \" 'The Rocket Record Company'\",\n \" 'IL'\",\n \" 'Chrysalis Records'\",\n \" 'A&M Records'\",\n \" 'Regal Zonophone'\",\n \" 'Stateside Records'\",\n \" 'Cube Records'\",\n \"'Elektra'\",\n \" 'EMI Records'\",\n \" 'Hollywood Records'\",\n \" 'EMI'\",\n \"'Atlantic Records'\",\n \" 'Decca'\",\n \" 'Swan Song Records'\",\n \"'Def Jam Recordings'\",\n \" 'Westbury Road Entertainment'\",\n \" 'Roc Nation'\",\n \"'Tower Records'\",\n \" 'Harvest'\",\n \" 'Columbia Records'\",\n \" 'Columbia Graphophone Co. Ltd.'\",\n \" 'Warner Music Group'\",\n \"'Shady Records'\",\n \" 'Interscope Records'\",\n \" 'Aftermath Entertainment'\",\n \" 'WEB Entertainment'\",\n \"'Sony Music'\",\n \" 'Epic Records'\",\n \" 'Virgin Music'\",\n \" 'Monarc Entertainment'\",\n \" 'Butterfly MC Records'\",\n \"'Big Machine Records'\",\n \" 'Republic Records'\",\n \"'Columbia Records'\",\n \" 'Parkwood Entertainment'\",\n \" 'Music World Entertainment'\",\n \"'Arista Records'\",\n \" 'RCA Records'\",\n \" '550 Music'\",\n \" 'CBS Records International'\",\n \" 'Sony Music Canada'\",\n \" 'Sony BMG Music Entertainment'\",\n \"'Polydor Records'\",\n \" 'Atlantic Records'\",\n \" 'ABKCO Records'\",\n \" 'Rolling Stones Records'\",\n \" 'London'\",\n \"'GOOD Music'\",\n \" 'Roc-A-Fella Records'\",\n \" 'Sony Classical'\",\n \"'Island Records'\",\n \" 'RBMG Records'\",\n \" 'School Boy Records'\",\n \"'Asylum Records'\",\n \" 'Elektra'\",\n \" 'Universal Motown Records'\",\n \"'Virgin Music'\",\n \" 'Warner Records Inc.'\",\n \" 'Walt Disney Records'\",\n \" 'Rhino Entertainment Company'\",\n \" 'Polar'\",\n \" 'Polar Music International AB'\",\n \" 'Vogue'\",\n \" 'Tonpress'\",\n \" 'RSO Records'\",\n \" 'Melodiya'\",\n \" 'CBS'\",\n \" 'Dynamic Sounds Studio'\",\n \" 'Carnaby Music'\",\n \" 'Amiga'\",\n \" 'Unidisc Music'\",\n \" 'WEA'\",\n \" 'PolyGram'\",\n \" 'PolyGram Polska'\",\n \" 'Karussell'\",\n \" 'Opus'\",\n \" 'Dig-It'\",\n \" 'Som Livre'\",\n \" 'K-tel'\",\n \" 'Castle Communications'\",\n \" 'Hallmark Records'\",\n \" 'Polskie Nagrania Muza'\",\n \" 'Team Mariann Compilation'\",\n \" 'Pickwick'\",\n \" 'Telstar'\",\n \" 'Dino Entertainment'\",\n \" 'Tower Records'\",\n \" 'Gallo Record Company'\",\n \" 'PGP-RTB'\",\n \" 'not on label'\",\n \" 'Vene Music'\",\n \" 'Universal Music Enterprises'\",\n \" 'World Music Network'\",\n \" 'BBC Transcription Services'\",\n \" 'CAR Juke Box'\",\n \" 'Playboy Records'\",\n \" 'United States Department of Defense'\",\n \" 'Balkanton'\",\n \" 'Universal Music Denmark'\",\n \" 'Disques Vogue'\",\n \" 'Aftonbladet'\",\n \"'Reprise Records'\",\n \" 'Warner Bros. Records'\",\n \"'Pamplin Music'\",\n \" 'The Island Def Jam Music Group'\",\n \"'RCA Records'\",\n \" 'Jive Records'\",\n \"'Roc-A-Fella Records'\",\n \" 'Northwestside Records'\",\n \"'Warner Bros. Records'\",\n \" 'Megaforce Records'\",\n \" 'Vertigo'\",\n \" 'Virgin EMI Records'\",\n \"'Cherrytree Records'\",\n \" 'KonLive Distribution'\",\n \"'Young Money Entertainment'\",\n \" 'Cash Money Records'\",\n \"'A&M Records'\",\n \" 'Reprise Records'\",\n \"'XL Recordings'\",\n \"'EMI'\",\n \"'Sanctuary Records'\",\n \" 'Sire'\",\n \" 'CBS Records'\",\n \" 'Blue Horizon'\",\n \" 'Warner Records'\",\n \"'Leedon'\",\n \" 'Spin'\",\n \" 'Brunswick Records'\",\n \" 'Fontana Records'\",\n \"'Cash Money Records'\",\n \" 'Young Money Entertainment'\",\n \"'Capitol Records'\",\n \" 'Fierce Panda Records'\",\n \" 'Machine Shop Records'\",\n \" 'Arista Records'\",\n \" 'LaFace Records'\",\n \" 'Universal Music Group Nashville'\",\n \"'Geffen Records'\",\n \" 'Uzi Suicide'\",\n \"'Jive Records'\",\n \" 'RCA'\",\n \" 'Atco Records'\",\n \" 'Bang Records'\",\n \" 'Hear Music'\",\n \" 'Rhythm Nation'\",\n \" 'Capitol Records Nashville'\",\n \" 'Curb Records'\",\n \" 'Giant Records'\",\n \" 'DreamWorks Records'\",\n \" 'Innervision Records'\",\n \" 'Asylum Records'\",\n \" 'Cleveland International Records'\",\n \" 'MCA Inc.'\",\n \" 'Sanctuary Records'\",\n \"'earMUSIC'\",\n \"'Iso (record label)'\",\n \" 'Deram'\",\n \" 'Bertelsmann Music Group'\",\n \" 'Rykodisc'\",\n \" 'Pye Records'\",\n \" 'Vocalion'\",\n \"'Motown'\",\n \" 'Apple Records'\",\n \" 'Virgin'\",\n \"'Uni'\",\n \" 'Brother Records'\",\n \" 'Candix Records'\",\n \" 'J Records'\",\n \" 'Charly Records'\",\n \" 'American Recordings'\",\n \" 'House of Cash'\",\n \" 'Zomba Group of Companies'\",\n \" 'Tennman Records'\",\n \"'Republic Records'\",\n \"'I.R.S. Records'\",\n \" 'Hib-Tone'\",\n \" 'Concord Bicycle Music'\",\n \" 'New West Records'\",\n \" 'Poe Boy Entertainment'\",\n \"'LaFace Records'\",\n \" 'Live Nation Entertainment'\",\n \"'Interscope Records'\",\n \" 'will.i.am Music Group'\",\n \"'Shelter Records'\",\n \" 'XO'\",\n \" 'KIDinaKORNER'\",\n \"'Death Row Records'\",\n \" 'Amaru Entertainment'\",\n \" 'Rockland Records'\",\n \" 'Warner Bros.'\",\n \" 'Sub Pop'\",\n \" 'Cameo-Parkway Records'\",\n \" 'Concord Records'\",\n \"'Epitaph Records'\",\n \"'Warner Music Group'\",\n \" 'Verve Records'\",\n \" 'Illegal Records'\",\n \"'Verve Forecast'\",\n \" 'Sony Masterworks'\",\n \" 'Burgundy Records'\",\n \" 'Bell Records'\",\n \" 'Battle Records'\",\n \" 'Checker'\"]"
     },
     "execution_count": 45,
     "metadata": {},
     "output_type": "execute_result"
    }
   ],
   "source": [
    "label_occurrence    \n"
   ],
   "metadata": {
    "collapsed": false,
    "ExecuteTime": {
     "end_time": "2024-03-24T11:54:17.595687Z",
     "start_time": "2024-03-24T11:54:17.548424300Z"
    }
   },
   "id": "4efc3621af870991"
  },
  {
   "cell_type": "code",
   "execution_count": 46,
   "outputs": [
    {
     "data": {
      "text/plain": "    Artist                                           Children      Spouse  \\\n5  Madonna  ['Jesus', 'James the Just', 'Simon, brother of...  ['Joseph']   \n\n                       Siblings RecordLabel  \n5  ['Salome', 'Mary of Clopas']          []  ",
      "text/html": "<div>\n<style scoped>\n    .dataframe tbody tr th:only-of-type {\n        vertical-align: middle;\n    }\n\n    .dataframe tbody tr th {\n        vertical-align: top;\n    }\n\n    .dataframe thead th {\n        text-align: right;\n    }\n</style>\n<table border=\"1\" class=\"dataframe\">\n  <thead>\n    <tr style=\"text-align: right;\">\n      <th></th>\n      <th>Artist</th>\n      <th>Children</th>\n      <th>Spouse</th>\n      <th>Siblings</th>\n      <th>RecordLabel</th>\n    </tr>\n  </thead>\n  <tbody>\n    <tr>\n      <th>5</th>\n      <td>Madonna</td>\n      <td>['Jesus', 'James the Just', 'Simon, brother of...</td>\n      <td>['Joseph']</td>\n      <td>['Salome', 'Mary of Clopas']</td>\n      <td>[]</td>\n    </tr>\n  </tbody>\n</table>\n</div>"
     },
     "execution_count": 46,
     "metadata": {},
     "output_type": "execute_result"
    }
   ],
   "source": [
    "relatives_label_df.loc[relatives_label_df['Artist'] == 'Madonna']"
   ],
   "metadata": {
    "collapsed": false,
    "ExecuteTime": {
     "end_time": "2024-03-24T11:54:18.281059900Z",
     "start_time": "2024-03-24T11:54:18.256930100Z"
    }
   },
   "id": "c3d5adb15ed74d99"
  },
  {
   "cell_type": "code",
   "execution_count": 47,
   "outputs": [],
   "source": [
    "# add each song\n",
    "for song in charts10_df['song'].unique():\n",
    "    song_uri = URIRef(WD + quote(song) + '#' + 'song')\n",
    "    g.add((song_uri, RDF.type, classes_dict_uri['Song']))\n",
    "    g.add((song_uri, RDFS.label, Literal(song, lang='en')))"
   ],
   "metadata": {
    "collapsed": false,
    "ExecuteTime": {
     "end_time": "2024-03-24T11:54:18.814741300Z",
     "start_time": "2024-03-24T11:54:18.610284900Z"
    }
   },
   "id": "69527ae9ea0afb2c"
  },
  {
   "cell_type": "code",
   "execution_count": 48,
   "outputs": [],
   "source": [
    "import math\n",
    "\n",
    "# add performers of each song\n",
    "song_occurrence = []\n",
    "for idx,row in charts10_df.iterrows():\n",
    "    if row['song'] not in song_occurrence:   \n",
    "        song_occurrence.append(row['song'])\n",
    "        song_uri = URIRef(WD + quote(row['song']) + '#' + 'song')\n",
    "        artists = [row['Artist1'], row['Artist2'], row['Artist3'], row['Artist4'], row['Artist5']] \n",
    "     \n",
    "        for value in  [value for value in artists if isinstance(value, str)]:\n",
    "            artist_uri = URIRef(WD + quote(value))\n",
    "            g.add((song_uri, properties_dict_uri['performer'], artist_uri))"
   ],
   "metadata": {
    "collapsed": false,
    "ExecuteTime": {
     "end_time": "2024-03-24T11:54:22.408219400Z",
     "start_time": "2024-03-24T11:54:19.116771200Z"
    }
   },
   "id": "a11a21e1230b4343"
  },
  {
   "cell_type": "code",
   "execution_count": 49,
   "outputs": [],
   "source": [
    "# add ranking of each song\n",
    "for idx,row in charts10_df.iterrows():\n",
    "    song_uri = URIRef(WD + quote(row['song']) + '#' + 'song')\n",
    "    ranking_uri = URIRef(WD +  '#' + quote(row['song']) + '#' +  quote(row['Artist']) + '#' + str(idx) + '#ranking')\n",
    "    \n",
    "    g.add((song_uri, properties_dict_uri['ranking'], ranking_uri))\n",
    "    \n",
    "    \n",
    "    \n",
    "    g.add((ranking_uri, RDF.type, classes_dict_uri['Ranking']))\n",
    "    g.add((ranking_uri, properties_dict_uri['value'], Literal(row['rank'], datatype=XSD.integer)))\n",
    "    g.add((ranking_uri, properties_dict_uri['datePosted'], Literal(row['date'],datatype=XSD.date)))"
   ],
   "metadata": {
    "collapsed": false,
    "ExecuteTime": {
     "end_time": "2024-03-24T11:54:28.509621500Z",
     "start_time": "2024-03-24T11:54:22.408219400Z"
    }
   },
   "id": "b1d5705b8608bc99"
  },
  {
   "cell_type": "markdown",
   "source": [],
   "metadata": {
    "collapsed": false
   },
   "id": "b81326a066d6fb5b"
  },
  {
   "cell_type": "code",
   "execution_count": 50,
   "outputs": [
    {
     "name": "stdout",
     "output_type": "stream",
     "text": [
      "{'Twitter/X': ['P6552', Decimal('7045719')], 'Youtube': ['P2397', Decimal('26400000')]}\n"
     ]
    }
   ],
   "source": [
    "import ast\n",
    "\n",
    "## add twitter and youtube followers\n",
    "def convert_to_dict(string):\n",
    "    \n",
    "    if string == '[]':\n",
    "        return {}\n",
    "    \n",
    "    dict_string = string\n",
    "    processed_string = dict_string.replace(\"Decimal('\", \"'\").replace(\"')\", \"'\")\n",
    "    result_dict = ast.literal_eval(processed_string)\n",
    "    \n",
    "    for key, values in result_dict.items():\n",
    "        \n",
    "        if values is not None:\n",
    "            result_dict[key] = [value if (value is not None and value.isdigit()) else value for value in values]\n",
    "    return result_dict\n",
    "\n",
    "for idx, row in quantity_df.iterrows():\n",
    "    \n",
    "    \n",
    "    artist_uri = URIRef(WD + quote(row['Artist']))\n",
    "    \n",
    "    if row['Artist'] == 'Post Malone':\n",
    "        print(row['mostRecentSocialMediaFollowers'])\n",
    "    \n",
    "    if row['mostRecentSocialMediaFollowers'] != '[]':\n",
    "        social_media_followers = convert_to_dict(row['mostRecentSocialMediaFollowers'])\n",
    "        for key, values in social_media_followers.items():\n",
    "            \n",
    "            if key == 'Twitter/X' and values is not None:\n",
    "                g.add((artist_uri, properties_dict_uri['hasTwitterFollowers'], Literal(values[1],datatype=XSD.integer)))\n",
    "            elif key == 'Youtube' and values is not None:\n",
    "                g.add((artist_uri, properties_dict_uri['hasYoutubeFollowers'], Literal(values[1],datatype=XSD.integer)))\n"
   ],
   "metadata": {
    "collapsed": false,
    "ExecuteTime": {
     "end_time": "2024-03-24T11:54:28.587774600Z",
     "start_time": "2024-03-24T11:54:28.526945400Z"
    }
   },
   "id": "7d6b52c57292f86e"
  },
  {
   "cell_type": "code",
   "execution_count": 51,
   "outputs": [
    {
     "data": {
      "text/plain": "<Graph identifier=Nf44a790461fb425396682f633a909df1 (<class 'rdflib.graph.Graph'>)>"
     },
     "execution_count": 51,
     "metadata": {},
     "output_type": "execute_result"
    }
   ],
   "source": [
    "g.serialize('KnowledgeGraphs//knowledge_graph.ttl', format='turtle')"
   ],
   "metadata": {
    "collapsed": false,
    "ExecuteTime": {
     "end_time": "2024-03-24T11:57:06.076596400Z",
     "start_time": "2024-03-24T11:54:28.540980200Z"
    }
   },
   "id": "bc1ce3d897c50036"
  }
 ],
 "metadata": {
  "kernelspec": {
   "display_name": "Python 3",
   "language": "python",
   "name": "python3"
  },
  "language_info": {
   "codemirror_mode": {
    "name": "ipython",
    "version": 2
   },
   "file_extension": ".py",
   "mimetype": "text/x-python",
   "name": "python",
   "nbconvert_exporter": "python",
   "pygments_lexer": "ipython2",
   "version": "2.7.6"
  }
 },
 "nbformat": 4,
 "nbformat_minor": 5
}
